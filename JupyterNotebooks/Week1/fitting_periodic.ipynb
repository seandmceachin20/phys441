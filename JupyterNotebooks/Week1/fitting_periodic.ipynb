{
 "cells": [
  {
   "cell_type": "code",
   "execution_count": 282,
   "id": "initial_id",
   "metadata": {
    "collapsed": true,
    "ExecuteTime": {
     "end_time": "2023-09-11T03:40:22.656889Z",
     "start_time": "2023-09-11T03:40:22.637507Z"
    }
   },
   "outputs": [],
   "source": [
    "import numpy as np\n",
    "from matplotlib import pyplot as plt\n",
    "from scipy.optimize import curve_fit\n"
   ]
  },
  {
   "cell_type": "code",
   "execution_count": 283,
   "outputs": [],
   "source": [
    "t = np.random.uniform(20, 35, 100)\n",
    "t.sort()\n",
    "def periodic_func(a, uncertainty):\n",
    "    f = a[0] + a[1]*t + a[2]*np.sin(a[4] * t) + a[3]*np.cos(a[4] * t) + np.random.normal(scale=uncertainty, size=len(t))\n",
    "    return f"
   ],
   "metadata": {
    "collapsed": false,
    "ExecuteTime": {
     "end_time": "2023-09-11T03:40:22.657107Z",
     "start_time": "2023-09-11T03:40:22.640473Z"
    }
   },
   "id": "11ec3f16666102da"
  },
  {
   "cell_type": "markdown",
   "source": [
    "Lets test our function"
   ],
   "metadata": {
    "collapsed": false
   },
   "id": "d36a2548523bff49"
  },
  {
   "cell_type": "code",
   "execution_count": 284,
   "outputs": [
    {
     "data": {
      "text/plain": "<Figure size 640x480 with 1 Axes>",
      "image/png": "[encoded data removed]"
     },
     "metadata": {},
     "output_type": "display_data"
    }
   ],
   "source": [
    "A = [0, 1, 1, 1, 0]\n",
    "func = periodic_func(A, 0.5)\n",
    "plt.plot(t, func, marker='o', linestyle='none')\n",
    "plt.show()"
   ],
   "metadata": {
    "collapsed": false,
    "ExecuteTime": {
     "end_time": "2023-09-11T03:40:22.710099Z",
     "start_time": "2023-09-11T03:40:22.642217Z"
    }
   },
   "id": "f7fc3e30405cbc14"
  },
  {
   "cell_type": "code",
   "execution_count": 285,
   "outputs": [],
   "source": [
    "def fit_function(time, *a):\n",
    "    return a[0] + a[1]*time + a[2]*np.sin(a[4] * time) + a[3]*np.cos(a[4] * time)"
   ],
   "metadata": {
    "collapsed": false,
    "ExecuteTime": {
     "end_time": "2023-09-11T03:40:22.710267Z",
     "start_time": "2023-09-11T03:40:22.698719Z"
    }
   },
   "id": "20b494d0408c540e"
  },
  {
   "cell_type": "code",
   "execution_count": 286,
   "outputs": [],
   "source": [
    "init_vals = [0.0 for x in range(5)]\n",
    "popt, pcov = curve_fit(fit_function, t, func, p0=init_vals)"
   ],
   "metadata": {
    "collapsed": false,
    "ExecuteTime": {
     "end_time": "2023-09-11T03:40:22.710311Z",
     "start_time": "2023-09-11T03:40:22.704749Z"
    }
   },
   "id": "80100116a53a8f0d"
  },
  {
   "cell_type": "markdown",
   "source": [
    "Hmm, seems like our uncertainty is so high its trouble finding a fit, I'll try lowering the uncertainty until we get a fit"
   ],
   "metadata": {
    "collapsed": false
   },
   "id": "9b5f9db120931b8f"
  },
  {
   "cell_type": "code",
   "execution_count": 287,
   "outputs": [],
   "source": [
    "func = periodic_func(A, 0.1)\n",
    "init_vals = [0.0 for x in range(5)]\n",
    "popt, pcov = curve_fit(fit_function, t, func, p0=init_vals)"
   ],
   "metadata": {
    "collapsed": false,
    "ExecuteTime": {
     "end_time": "2023-09-11T03:40:22.711680Z",
     "start_time": "2023-09-11T03:40:22.707778Z"
    }
   },
   "id": "bb25e7399da05f51"
  },
  {
   "cell_type": "markdown",
   "source": [
    "Interestingly, at this uncertainty the  a fit is found some of the time, I'll lower it by another 50%"
   ],
   "metadata": {
    "collapsed": false
   },
   "id": "cb78ae05f4267a52"
  },
  {
   "cell_type": "code",
   "execution_count": 288,
   "outputs": [
    {
     "name": "stdout",
     "output_type": "stream",
     "text": [
      "[ 3.60320956  0.89759564 -0.00804633 -1.70986    -0.06191376]\n"
     ]
    }
   ],
   "source": [
    "func = periodic_func(A, 0.05)\n",
    "init_vals = [0.0 for x in range(5)]\n",
    "popt, pcov = curve_fit(fit_function, t, func, p0=init_vals)\n",
    "perr = np.sqrt(np.diag(pcov))\n",
    "\n",
    "print(popt)"
   ],
   "metadata": {
    "collapsed": false,
    "ExecuteTime": {
     "end_time": "2023-09-11T03:40:22.762120Z",
     "start_time": "2023-09-11T03:40:22.716071Z"
    }
   },
   "id": "d3b81bc3c5d99865"
  },
  {
   "cell_type": "markdown",
   "source": [
    "These fit parameters seem way off from original function"
   ],
   "metadata": {
    "collapsed": false
   },
   "id": "cd35e3c61fdbd082"
  }
 ],
 "metadata": {
  "kernelspec": {
   "display_name": "Python 3",
   "language": "python",
   "name": "python3"
  },
  "language_info": {
   "codemirror_mode": {
    "name": "ipython",
    "version": 2
   },
   "file_extension": ".py",
   "mimetype": "text/x-python",
   "name": "python",
   "nbconvert_exporter": "python",
   "pygments_lexer": "ipython2",
   "version": "2.7.6"
  }
 },
 "nbformat": 4,
 "nbformat_minor": 5
}
