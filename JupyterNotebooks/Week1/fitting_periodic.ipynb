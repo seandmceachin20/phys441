{
 "cells": [
  {
   "cell_type": "code",
   "execution_count": null,
   "id": "initial_id",
   "metadata": {
    "collapsed": true
   },
   "outputs": [],
   "source": [
    "import numpy as np\n",
    "from matplotlib import pyplot as plt"
   ]
  },
  {
   "cell_type": "code",
   "execution_count": null,
   "outputs": [],
   "source": [
    "def periodic_func(a, t1, t2, points):\n",
    "    t = np.linspace(t1, t2, points)\n",
    "    f = a[0] + a[1]*t + a[2]*np.sin(a[4] * t) + a[3]*np.cos(a[4] * t)\n",
    "    plt.plot(t, f)\n",
    "    plt.errorbar(t, f, yerr=0.5, fmt='o')\n",
    "    plt.show()\n",
    "    return "
   ],
   "metadata": {
    "collapsed": false
   },
   "id": "11ec3f16666102da"
  }
 ],
 "metadata": {
  "kernelspec": {
   "display_name": "Python 3",
   "language": "python",
   "name": "python3"
  },
  "language_info": {
   "codemirror_mode": {
    "name": "ipython",
    "version": 2
   },
   "file_extension": ".py",
   "mimetype": "text/x-python",
   "name": "python",
   "nbconvert_exporter": "python",
   "pygments_lexer": "ipython2",
   "version": "2.7.6"
  }
 },
 "nbformat": 4,
 "nbformat_minor": 5
}
