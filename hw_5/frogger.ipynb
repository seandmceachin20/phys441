{
 "cells": [
  {
   "cell_type": "code",
   "execution_count": 1,
   "metadata": {
    "ExecuteTime": {
     "end_time": "2023-10-30T14:49:34.689813Z",
     "start_time": "2023-10-30T14:49:34.680694Z"
    },
    "collapsed": false
   },
   "outputs": [],
   "source": [
    "import numpy as np\n",
    "import matplotlib.pyplot as plt\n",
    "import scipy.stats as stats\n",
    "import random"
   ]
  },
  {
   "cell_type": "markdown",
   "metadata": {
    "collapsed": false
   },
   "source": [
    "# The Game of Frogger\n",
    "\n",
    "## The game of Frogger is a simple game where a frog starts at one side of a stream and tries to get to the other side of the stream. The stream has within it N lily pads. The frog starts, effectively, on pad 0 and can jump to pad 1, 2, 3, ..., N+1. The frog is equally likely to jump to any of the pads 1, 2, 3, ..., N+1.  The frog gets to the other side when she reaches pad N+1.\n",
    "\n",
    "## The question is, on average, how many jumps does it take for the frog to get to the other side of the stream?\n"
   ]
  },
  {
   "cell_type": "markdown",
   "metadata": {
    "collapsed": false
   },
   "source": [
    "## Analytic Solution\n",
    "\n",
    "### The expectation value for a discrete random variable is defined as:\n",
    "\n",
    "### $E = \\sum_{i=0}^{n} x_i p_i$\n",
    "\n",
    "### where $x_i$ is the value of the random variable and $p_i$ is the probability of the random variable taking on the value $x_i$.\n",
    "\n",
    "### Let's consider some simple cases:\n",
    "\n",
    "### n = 0\n",
    "\n",
    "### $E_0 = x_0 p_0 = 1 \\cdot 1 = 1$\n",
    "\n",
    "### n = 1\n",
    "\n",
    "### $E_1 = \\frac{1}{2} (1) + \\frac{1}{2} (2) = 1 + \\frac{1}{2} (1) = \\frac{3}{2}$ = 1.5\n",
    "\n",
    "### n = 2\n",
    "\n",
    "### $E_2 = \\frac{1}{3} (1) + \\frac{1}{3} (\\frac{1}{2} (2) + \\frac{1}{2} (3)) + \\frac{1}{3} (2)  = 1 + \\frac{1}{3} (\\frac{3}{2}) + \\frac{1}{3} (1) = \\frac{11}{6} = 1.8333$\n",
    "\n",
    "### We can observe a pattern now ... for each value of $n$, we can break down the problem into a sum of the previous problems (for smaller n values).  We see that for any value of n, the expectation value is:\n",
    "\n",
    "### $E_n = 1 + \\frac{1}{n+1} \\sum_{i=1}^{n} E_{n-i}$\n",
    "\n",
    "### So, we can calculate the expectation value for any value of n by calculating the expectation value for all smaller values of n.  A recursive solution to this problem seems appropriate.\n",
    "\n",
    "## Harmonic Mean\n",
    "\n",
    "### The harmonic mean is defined as:\n",
    "\n",
    "### $H = \\frac{n}{\\sum_{i=1}^{n} \\frac{1}{x_i}}$\n",
    "\n",
    "### where $x_i$ is the value of the random variable and $n$ is the number of values of $x_i$.\n",
    "\n",
    "### The harmonic mean is the appropriate mean to use when the values of the random variable are rates (e.g. miles per gallon).  In this case, the values of the random variable are the number of jumps it takes for the frog to get to the other side of the stream.  So, the harmonic mean is the appropriate mean to use.\n",
    "\n"
   ]
  },
  {
   "cell_type": "markdown",
   "metadata": {
    "collapsed": false
   },
   "source": [
    "### Set the number of lilypads"
   ]
  },
  {
   "cell_type": "code",
   "execution_count": 2,
   "metadata": {
    "ExecuteTime": {
     "end_time": "2023-10-30T14:49:35.863780Z",
     "start_time": "2023-10-30T14:49:35.849571Z"
    }
   },
   "outputs": [],
   "source": [
    "n = 100"
   ]
  },
  {
   "cell_type": "markdown",
   "metadata": {
    "collapsed": false
   },
   "source": [
    "### seed the random number generator"
   ]
  },
  {
   "cell_type": "code",
   "execution_count": 3,
   "metadata": {
    "ExecuteTime": {
     "end_time": "2023-10-30T14:49:36.795664Z",
     "start_time": "2023-10-30T14:49:36.783752Z"
    }
   },
   "outputs": [],
   "source": [
    "random.seed(1)"
   ]
  },
  {
   "cell_type": "code",
   "execution_count": 4,
   "metadata": {
    "ExecuteTime": {
     "end_time": "2023-10-30T14:49:37.296909Z",
     "start_time": "2023-10-30T14:49:37.288914Z"
    }
   },
   "outputs": [],
   "source": [
    "start = 0 # start at lilypad 0\n",
    "jumpsum = 0 # keep track of the number of jumps per simulation\n",
    "total_jumps = 0 # keep track of the total number of jumps for all simulations\n",
    "n_trys = 1000 # number of simulations to run\n",
    "\n",
    "x = [] # array for the number of lilypads for plotting\n",
    "y = [] # array for the expectation value for plotting\n",
    "eval = [] # array for the analytic solution\n",
    "eval_harmonic = [] # array for the analytic solution\n",
    "x_harmonic = [] # array for the harmonic mean\n",
    "sigma = [] # array for the error on the expectation value"
   ]
  },
  {
   "cell_type": "code",
   "execution_count": 5,
   "metadata": {
    "ExecuteTime": {
     "end_time": "2023-10-30T14:49:37.898960Z",
     "start_time": "2023-10-30T14:49:37.892937Z"
    }
   },
   "outputs": [],
   "source": [
    "#\n",
    "# Evaluate the analytic solution shown above\n",
    "#\n",
    "# loop over the number of lilypads (it's n+1 so that we actually do the npad=n_max case)\n",
    "for npad in range(0,n+1): \n",
    "\n",
    "    if (npad == 0):\n",
    "        eval.append(1)\n",
    "    else:\n",
    "        sum = 1.0\n",
    "        for i in range(0,npad):\n",
    "            #print(i,npad,npad-i)\n",
    "            #print(eval[npad-i-1])\n",
    "            sum = sum + 1.0/(npad+1)*(eval[npad-i-1])\n",
    "        eval.append(sum)\n",
    "    #print(\"Theory: \",npad,eval[npad])\n",
    "  "
   ]
  },
  {
   "cell_type": "code",
   "execution_count": 6,
   "metadata": {
    "ExecuteTime": {
     "end_time": "2023-10-30T14:49:41.248029Z",
     "start_time": "2023-10-30T14:49:38.432731Z"
    },
    "collapsed": false
   },
   "outputs": [
    {
     "name": "stdout",
     "output_type": "stream",
     "text": [
      "Expectation value for n = 0 is 1.000000\n",
      "Expectation value for n = 1 is 1.990000\n",
      "Expectation value for n = 2 is 3.032000\n",
      "Expectation value for n = 3 is 3.978000\n",
      "Expectation value for n = 4 is 5.050000\n",
      "Expectation value for n = 5 is 5.929000\n",
      "Expectation value for n = 6 is 6.651000\n",
      "Expectation value for n = 7 is 7.835000\n",
      "Expectation value for n = 8 is 8.627000\n",
      "Expectation value for n = 9 is 9.605000\n",
      "Expectation value for n = 10 is 11.016000\n",
      "Expectation value for n = 11 is 12.319000\n",
      "Expectation value for n = 12 is 12.458000\n",
      "Expectation value for n = 13 is 14.389000\n",
      "Expectation value for n = 14 is 15.190000\n",
      "Expectation value for n = 15 is 15.536000\n",
      "Expectation value for n = 16 is 17.192000\n",
      "Expectation value for n = 17 is 17.984000\n",
      "Expectation value for n = 18 is 20.012000\n",
      "Expectation value for n = 19 is 19.903000\n",
      "Expectation value for n = 20 is 21.217000\n",
      "Expectation value for n = 21 is 22.663000\n",
      "Expectation value for n = 22 is 22.878000\n",
      "Expectation value for n = 23 is 23.516000\n",
      "Expectation value for n = 24 is 24.370000\n",
      "Expectation value for n = 25 is 25.283000\n",
      "Expectation value for n = 26 is 26.495000\n",
      "Expectation value for n = 27 is 28.201000\n",
      "Expectation value for n = 28 is 31.156000\n",
      "Expectation value for n = 29 is 29.977000\n",
      "Expectation value for n = 30 is 29.285000\n",
      "Expectation value for n = 31 is 31.325000\n",
      "Expectation value for n = 32 is 32.134000\n",
      "Expectation value for n = 33 is 34.986000\n",
      "Expectation value for n = 34 is 34.965000\n",
      "Expectation value for n = 35 is 37.337000\n",
      "Expectation value for n = 36 is 34.726000\n",
      "Expectation value for n = 37 is 38.982000\n",
      "Expectation value for n = 38 is 39.236000\n",
      "Expectation value for n = 39 is 40.809000\n",
      "Expectation value for n = 40 is 39.110000\n",
      "Expectation value for n = 41 is 41.798000\n",
      "Expectation value for n = 42 is 44.310000\n",
      "Expectation value for n = 43 is 44.059000\n",
      "Expectation value for n = 44 is 45.320000\n",
      "Expectation value for n = 45 is 48.892000\n",
      "Expectation value for n = 46 is 44.240000\n",
      "Expectation value for n = 47 is 49.043000\n",
      "Expectation value for n = 48 is 47.292000\n",
      "Expectation value for n = 49 is 51.428000\n",
      "Expectation value for n = 50 is 52.491000\n",
      "Expectation value for n = 51 is 52.976000\n",
      "Expectation value for n = 52 is 52.764000\n",
      "Expectation value for n = 53 is 53.066000\n",
      "Expectation value for n = 54 is 53.198000\n",
      "Expectation value for n = 55 is 56.648000\n",
      "Expectation value for n = 56 is 57.677000\n",
      "Expectation value for n = 57 is 57.370000\n",
      "Expectation value for n = 58 is 57.076000\n",
      "Expectation value for n = 59 is 59.235000\n",
      "Expectation value for n = 60 is 60.168000\n",
      "Expectation value for n = 61 is 58.024000\n",
      "Expectation value for n = 62 is 65.156000\n",
      "Expectation value for n = 63 is 68.721000\n",
      "Expectation value for n = 64 is 62.492000\n",
      "Expectation value for n = 65 is 68.684000\n",
      "Expectation value for n = 66 is 67.215000\n",
      "Expectation value for n = 67 is 68.750000\n",
      "Expectation value for n = 68 is 72.198000\n",
      "Expectation value for n = 69 is 66.260000\n",
      "Expectation value for n = 70 is 72.738000\n",
      "Expectation value for n = 71 is 71.223000\n",
      "Expectation value for n = 72 is 74.863000\n",
      "Expectation value for n = 73 is 70.708000\n",
      "Expectation value for n = 74 is 76.239000\n",
      "Expectation value for n = 75 is 78.201000\n",
      "Expectation value for n = 76 is 76.665000\n",
      "Expectation value for n = 77 is 82.699000\n",
      "Expectation value for n = 78 is 76.538000\n",
      "Expectation value for n = 79 is 82.766000\n",
      "Expectation value for n = 80 is 79.013000\n",
      "Expectation value for n = 81 is 85.573000\n",
      "Expectation value for n = 82 is 86.698000\n",
      "Expectation value for n = 83 is 85.639000\n",
      "Expectation value for n = 84 is 83.946000\n",
      "Expectation value for n = 85 is 84.798000\n",
      "Expectation value for n = 86 is 87.805000\n",
      "Expectation value for n = 87 is 85.179000\n",
      "Expectation value for n = 88 is 89.122000\n",
      "Expectation value for n = 89 is 87.134000\n",
      "Expectation value for n = 90 is 88.053000\n",
      "Expectation value for n = 91 is 91.283000\n",
      "Expectation value for n = 92 is 91.901000\n",
      "Expectation value for n = 93 is 92.434000\n",
      "Expectation value for n = 94 is 108.341000\n",
      "Expectation value for n = 95 is 90.641000\n",
      "Expectation value for n = 96 is 97.441000\n",
      "Expectation value for n = 97 is 100.447000\n",
      "Expectation value for n = 98 is 99.382000\n",
      "Expectation value for n = 99 is 98.978000\n",
      "Expectation value for n = 100 is 100.147000\n"
     ]
    }
   ],
   "source": [
    "#\n",
    "# Run the simulation\n",
    "#\n",
    "# (also, evaluate the harmonic mean along the way)\n",
    "#\n",
    "for npad in range(0,n+1):\n",
    "    \n",
    "    x_harmonic.append(npad+1)\n",
    "    x.append(npad)\n",
    "    \n",
    "    sum2 = (npad+1.0)/stats.hmean(x_harmonic)\n",
    "    eval_harmonic.append(sum2)\n",
    "    \n",
    "    #print (\"Harmonic mean for npad = \",npad,\" = \", sum2)\n",
    "    \n",
    "    end = npad+1\n",
    "    current_paddle = start\n",
    "    \n",
    "    # run the simulation n_trys times\n",
    "    for j in range(n_trys):\n",
    "        \n",
    "        # run the simulation until the frog reaches the other side\n",
    "        while current_paddle < end:\n",
    "            \"\"\"\n",
    "            # This is the code we want to modify, instead we want it to jump to any other lilly pad\n",
    "            jump = int(random.uniform(1,(end-current_paddle+1)))\n",
    "            #print (\"Jump = \",jump)\n",
    "            \"\"\"\n",
    "\n",
    "            jump = current_paddle\n",
    "            while jump == current_paddle:\n",
    "                jump = int(random.uniform(0,(end+1)))\n",
    "\n",
    "            current_paddle = jump\n",
    "            \n",
    "            # jump ahead\n",
    "            #current_paddle = current_paddle + jump\n",
    "            current_paddle = jump\n",
    "            #print (\"Now at \",current_paddle)\n",
    "            \n",
    "            # keep track of the number of jumps\n",
    "            jumpsum = jumpsum + 1\n",
    "            \n",
    "        # reset the frog to the start for the next simulation\n",
    "        current_paddle = start\n",
    "        #print (\"j = %d, Total_jumps = %d\" % (j,jumpsum))\n",
    "        \n",
    "        # keep track of the total number of jumps for all simulations\n",
    "        total_jumps = total_jumps + jumpsum\n",
    "        \n",
    "        # reset the jumpsum for the next simulation\n",
    "        jumpsum = 0\n",
    "    \n",
    "    #print (npad,total_jumps,n_trys)\n",
    "\n",
    "    # calculate the expectation value\n",
    "    expectation_value = total_jumps/n_trys*1.0\n",
    "    \n",
    "    # store the expectation value and the error on the expectation value for plotting\n",
    "    y.append(expectation_value)\n",
    "    sigma.append(expectation_value*1/np.sqrt(n_trys))\n",
    "    \n",
    "    # reset the total number of jumps for all simulations, for the next value of npad\n",
    "    total_jumps = 0\n",
    "    \n",
    "    print (\"Expectation value for n = %d is %f\" % (npad,expectation_value))\n",
    "  "
   ]
  },
  {
   "cell_type": "code",
   "execution_count": 7,
   "metadata": {
    "ExecuteTime": {
     "end_time": "2023-10-30T14:49:41.635687Z",
     "start_time": "2023-10-30T14:49:41.272396Z"
    }
   },
   "outputs": [
    {
     "data": {
      "text/plain": [
       "<ErrorbarContainer object of 3 artists>"
      ]
     },
     "execution_count": 7,
     "metadata": {},
     "output_type": "execute_result"
    },
    {
     "data": {
      "image/png": "[encoded data removed]",
      "text/plain": [
       "<Figure size 1500x1200 with 1 Axes>"
      ]
     },
     "metadata": {},
     "output_type": "display_data"
    }
   ],
   "source": [
    "# plot the results\n",
    "\n",
    "fig = plt.figure(figsize=(15,12))\n",
    "ax1 = fig.add_subplot(111)\n",
    "\n",
    "ax1.set_title(\"Frog Problem\")\n",
    "ax1.set_xlabel('N')\n",
    "ax1.set_ylabel('Expected Number of Jumps / N')\n",
    "ax1.set_xlim(-1,n+1)\n",
    "#ax1.set_yscale(\"log\")\n",
    "#ax1.set_xscale(\"log\")\n",
    "ax1.grid(True)\n",
    "\n",
    "ax1.errorbar(x,y,yerr=sigma,fmt='o')\n",
    "#ax1.plot(x,eval,'r--')\n",
    "#ax1.plot(x,eval_harmonic,'g--')\n"
   ]
  },
  {
   "cell_type": "markdown",
   "metadata": {},
   "source": [
    "We can see here, in the case where the frog can jump to any other lilly pad, even backwards, A linear relationship is generally followed, where the number of jumps is equal to the number of lilly pads. This is because the frog is equally likely to jump to any other lilly pad, so the number of jumps is equal to the number of lilly pads. This makes sense, as for example when theres 100 possible places to jump to, but only 1 is the end, you have a 1% chance of sucess, even when youre for example at pad 47, and theres only 99 possible lilly pads to jump too, the starting point is still a possible option, so the number of possible places to jumpt too is still 100. "
   ]
  },
  {
   "cell_type": "markdown",
   "metadata": {},
   "source": [
    "Now let's do the same thing, but where the frog can only jumpt forward, and the probability of it landing in a particular lilly pad is inverse to the distance of the lilly pad from the jump point."
   ]
  },
  {
   "cell_type": "code",
   "execution_count": 8,
   "metadata": {},
   "outputs": [],
   "source": [
    "n = 100"
   ]
  },
  {
   "cell_type": "code",
   "execution_count": 9,
   "metadata": {},
   "outputs": [],
   "source": [
    "random.seed(1)"
   ]
  },
  {
   "cell_type": "code",
   "execution_count": 10,
   "metadata": {},
   "outputs": [],
   "source": [
    "#\n",
    "# Evaluate the analytic solution shown above\n",
    "#\n",
    "# loop over the number of lilypads (it's n+1 so that we actually do the npad=n_max case)\n",
    "for npad in range(0,n+1): \n",
    "\n",
    "    if (npad == 0):\n",
    "        eval.append(1)\n",
    "    else:\n",
    "        sum = 1.0\n",
    "        for i in range(0,npad):\n",
    "            #print(i,npad,npad-i)\n",
    "            #print(eval[npad-i-1])\n",
    "            sum = sum + 1.0/(npad+1)*(eval[npad-i-1])\n",
    "        eval.append(sum)\n",
    "    #print(\"Theory: \",npad,eval[npad])\n",
    "  "
   ]
  },
  {
   "cell_type": "code",
   "execution_count": 11,
   "metadata": {},
   "outputs": [
    {
     "name": "stdout",
     "output_type": "stream",
     "text": [
      "Expectation value for n = 0 is 1.000000\n",
      "Expectation value for n = 1 is 2.596000\n",
      "Expectation value for n = 2 is 4.483000\n",
      "Expectation value for n = 3 is 6.320000\n",
      "Expectation value for n = 4 is 8.382000\n",
      "Expectation value for n = 5 is 10.501000\n",
      "Expectation value for n = 6 is 12.691000\n",
      "Expectation value for n = 7 is 14.839000\n",
      "Expectation value for n = 8 is 17.328000\n",
      "Expectation value for n = 9 is 19.566000\n",
      "Expectation value for n = 10 is 22.163000\n",
      "Expectation value for n = 11 is 24.471000\n",
      "Expectation value for n = 12 is 27.089000\n",
      "Expectation value for n = 13 is 29.698000\n",
      "Expectation value for n = 14 is 32.205000\n",
      "Expectation value for n = 15 is 34.819000\n",
      "Expectation value for n = 16 is 37.762000\n",
      "Expectation value for n = 17 is 40.306000\n",
      "Expectation value for n = 18 is 43.342000\n",
      "Expectation value for n = 19 is 45.617000\n",
      "Expectation value for n = 20 is 48.758000\n",
      "Expectation value for n = 21 is 51.270000\n",
      "Expectation value for n = 22 is 54.226000\n",
      "Expectation value for n = 23 is 56.912000\n",
      "Expectation value for n = 24 is 60.003000\n",
      "Expectation value for n = 25 is 63.531000\n",
      "Expectation value for n = 26 is 66.070000\n",
      "Expectation value for n = 27 is 69.523000\n",
      "Expectation value for n = 28 is 71.675000\n",
      "Expectation value for n = 29 is 75.362000\n",
      "Expectation value for n = 30 is 78.672000\n",
      "Expectation value for n = 31 is 81.489000\n",
      "Expectation value for n = 32 is 84.253000\n",
      "Expectation value for n = 33 is 88.217000\n",
      "Expectation value for n = 34 is 90.127000\n",
      "Expectation value for n = 35 is 93.985000\n",
      "Expectation value for n = 36 is 96.873000\n",
      "Expectation value for n = 37 is 99.794000\n",
      "Expectation value for n = 38 is 102.816000\n",
      "Expectation value for n = 39 is 106.116000\n",
      "Expectation value for n = 40 is 110.129000\n",
      "Expectation value for n = 41 is 113.061000\n",
      "Expectation value for n = 42 is 116.793000\n",
      "Expectation value for n = 43 is 119.624000\n",
      "Expectation value for n = 44 is 122.499000\n",
      "Expectation value for n = 45 is 126.079000\n",
      "Expectation value for n = 46 is 129.537000\n",
      "Expectation value for n = 47 is 132.682000\n",
      "Expectation value for n = 48 is 136.183000\n",
      "Expectation value for n = 49 is 139.193000\n",
      "Expectation value for n = 50 is 142.782000\n",
      "Expectation value for n = 51 is 146.537000\n",
      "Expectation value for n = 52 is 149.444000\n",
      "Expectation value for n = 53 is 153.610000\n",
      "Expectation value for n = 54 is 156.645000\n",
      "Expectation value for n = 55 is 159.572000\n",
      "Expectation value for n = 56 is 163.685000\n",
      "Expectation value for n = 57 is 166.140000\n",
      "Expectation value for n = 58 is 170.418000\n",
      "Expectation value for n = 59 is 173.339000\n",
      "Expectation value for n = 60 is 176.539000\n",
      "Expectation value for n = 61 is 180.144000\n",
      "Expectation value for n = 62 is 184.085000\n",
      "Expectation value for n = 63 is 187.295000\n",
      "Expectation value for n = 64 is 190.108000\n",
      "Expectation value for n = 65 is 193.935000\n",
      "Expectation value for n = 66 is 198.281000\n",
      "Expectation value for n = 67 is 201.709000\n",
      "Expectation value for n = 68 is 205.241000\n",
      "Expectation value for n = 69 is 207.922000\n",
      "Expectation value for n = 70 is 212.572000\n",
      "Expectation value for n = 71 is 215.327000\n",
      "Expectation value for n = 72 is 219.273000\n",
      "Expectation value for n = 73 is 223.011000\n",
      "Expectation value for n = 74 is 226.717000\n",
      "Expectation value for n = 75 is 229.695000\n",
      "Expectation value for n = 76 is 233.896000\n",
      "Expectation value for n = 77 is 238.289000\n",
      "Expectation value for n = 78 is 240.220000\n",
      "Expectation value for n = 79 is 245.007000\n",
      "Expectation value for n = 80 is 247.372000\n",
      "Expectation value for n = 81 is 251.574000\n",
      "Expectation value for n = 82 is 254.712000\n",
      "Expectation value for n = 83 is 259.457000\n",
      "Expectation value for n = 84 is 262.004000\n",
      "Expectation value for n = 85 is 266.144000\n",
      "Expectation value for n = 86 is 269.834000\n",
      "Expectation value for n = 87 is 273.554000\n",
      "Expectation value for n = 88 is 276.821000\n",
      "Expectation value for n = 89 is 281.240000\n",
      "Expectation value for n = 90 is 284.366000\n",
      "Expectation value for n = 91 is 287.126000\n",
      "Expectation value for n = 92 is 291.427000\n",
      "Expectation value for n = 93 is 295.973000\n",
      "Expectation value for n = 94 is 299.572000\n",
      "Expectation value for n = 95 is 304.209000\n",
      "Expectation value for n = 96 is 306.451000\n",
      "Expectation value for n = 97 is 311.728000\n",
      "Expectation value for n = 98 is 315.265000\n",
      "Expectation value for n = 99 is 318.892000\n",
      "Expectation value for n = 100 is 322.077000\n"
     ]
    }
   ],
   "source": [
    "#\n",
    "# Run the simulation\n",
    "#\n",
    "# (also, evaluate the harmonic mean along the way)\n",
    "#\n",
    "for npad in range(0,n+1):\n",
    "    \n",
    "    x_harmonic.append(npad+1)\n",
    "    x.append(npad)\n",
    "    \n",
    "    sum2 = (npad+1.0)/stats.hmean(x_harmonic)\n",
    "    eval_harmonic.append(sum2)\n",
    "    \n",
    "    #print (\"Harmonic mean for npad = \",npad,\" = \", sum2)\n",
    "    \n",
    "    end = npad+1\n",
    "    current_paddle = start\n",
    "    \n",
    "    # run the simulation n_trys times\n",
    "    for j in range(n_trys):\n",
    "        \n",
    "        # run the simulation until the frog reaches the other side\n",
    "        while current_paddle < end:\n",
    "            \"\"\"\n",
    "            # This is the code we want to modify, instead we want it to jump to any other lilly pad\n",
    "            jump = int(random.uniform(1,(end-current_paddle+1)))\n",
    "            #print (\"Jump = \",jump)\n",
    "            \"\"\"\n",
    "\n",
    "            possible_jumps = 1/np.arange(1,end+1)\n",
    "            jump_probabilities = possible_jumps/np.sum(possible_jumps)\n",
    "            jump = np.random.choice(possible_jumps, p=jump_probabilities)\n",
    "            \n",
    "            # jump ahead\n",
    "            #current_paddle = current_paddle + jump\n",
    "            current_paddle = jump + current_paddle\n",
    "            #print (\"Now at \",current_paddle)\n",
    "            \n",
    "            # keep track of the number of jumps\n",
    "            jumpsum = jumpsum + 1\n",
    "            \n",
    "        # reset the frog to the start for the next simulation\n",
    "        current_paddle = start\n",
    "        #print (\"j = %d, Total_jumps = %d\" % (j,jumpsum))\n",
    "        \n",
    "        # keep track of the total number of jumps for all simulations\n",
    "        total_jumps = total_jumps + jumpsum\n",
    "        \n",
    "        # reset the jumpsum for the next simulation\n",
    "        jumpsum = 0\n",
    "    \n",
    "    #print (npad,total_jumps,n_trys)\n",
    "\n",
    "    # calculate the expectation value\n",
    "    expectation_value = total_jumps/n_trys*1.0\n",
    "    \n",
    "    # store the expectation value and the error on the expectation value for plotting\n",
    "    y.append(expectation_value)\n",
    "    sigma.append(expectation_value*1/np.sqrt(n_trys))\n",
    "    \n",
    "    # reset the total number of jumps for all simulations, for the next value of npad\n",
    "    total_jumps = 0\n",
    "    \n",
    "    print (\"Expectation value for n = %d is %f\" % (npad,expectation_value))\n",
    "  "
   ]
  },
  {
   "cell_type": "code",
   "execution_count": 12,
   "metadata": {},
   "outputs": [
    {
     "data": {
      "text/plain": [
       "<ErrorbarContainer object of 3 artists>"
      ]
     },
     "execution_count": 12,
     "metadata": {},
     "output_type": "execute_result"
    },
    {
     "data": {
      "image/png": "[encoded data removed]",
      "text/plain": [
       "<Figure size 1500x1200 with 1 Axes>"
      ]
     },
     "metadata": {},
     "output_type": "display_data"
    }
   ],
   "source": [
    "# plot the results\n",
    "\n",
    "fig = plt.figure(figsize=(15,12))\n",
    "ax1 = fig.add_subplot(111)\n",
    "\n",
    "ax1.set_title(\"Frog Problem\")\n",
    "ax1.set_xlabel('N')\n",
    "ax1.set_ylabel('Expected Number of Jumps / N')\n",
    "ax1.set_xlim(-1,n+1)\n",
    "#ax1.set_yscale(\"log\")\n",
    "#ax1.set_xscale(\"log\")\n",
    "ax1.grid(True)\n",
    "\n",
    "ax1.errorbar(x,y,yerr=sigma,fmt='o')\n",
    "#ax1.plot(x,eval,'r--')\n",
    "#ax1.plot(x,eval_harmonic,'g--')"
   ]
  },
  {
   "cell_type": "markdown",
   "metadata": {},
   "source": [
    "The expected number of jumps increases roughly linearly with the number of lilly pads once th number of lilly pads is high enough, and that would seem to make logical sense. As the number of lilly pads increases, every time the frog makes a jump, its still most likley to land in one of the first couple lilly pads, as jumping to say the 50th pad is such an incredibly small chance in comparison. At a small number of lilly pads that chance of simply jumping to the end isnt quite as small, so we can see a steeper slope there. It seems to me somewhat similar to something like air resistence. The rate at which the increasing the number of lilly pads increases how many jumps are needed at a certain point becomes linear instead of exponential, in the same way a falling object eventually reaches terminal velocity. It would seem to make sense that a differential equation could be used to get the theory predicition for number of jumps needed, simply following similar math to drag forces."
   ]
  },
  {
   "cell_type": "markdown",
   "metadata": {},
   "source": []
  }
 ],
 "metadata": {
  "kernelspec": {
   "display_name": "Python 3",
   "language": "python",
   "name": "python3"
  },
  "language_info": {
   "codemirror_mode": {
    "name": "ipython",
    "version": 3
   },
   "file_extension": ".py",
   "mimetype": "text/x-python",
   "name": "python",
   "nbconvert_exporter": "python",
   "pygments_lexer": "ipython3",
   "version": "3.11.5"
  }
 },
 "nbformat": 4,
 "nbformat_minor": 2
}
