{
 "cells": [
  {
   "cell_type": "markdown",
   "id": "victorian-latitude",
   "metadata": {},
   "source": [
    "# Bike Share System"
   ]
  },
  {
   "cell_type": "markdown",
   "id": "imported-table",
   "metadata": {
    "tags": []
   },
   "source": [
    "*Modeling and Simulation in Python*\n",
    "\n",
    "Copyright 2021 Allen Downey\n",
    "\n",
    "License: [Creative Commons Attribution-NonCommercial-ShareAlike 4.0 International](https://creativecommons.org/licenses/by-nc-sa/4.0/)"
   ]
  },
  {
   "cell_type": "code",
   "execution_count": 1,
   "id": "electoral-turkey",
   "metadata": {
    "ExecuteTime": {
     "end_time": "2023-09-24T14:59:45.064715Z",
     "start_time": "2023-09-24T14:59:43.208267Z"
    },
    "tags": []
   },
   "outputs": [],
   "source": [
    "# import functions from modsim\n",
    "from modsim import *\n",
    "import pandas as pd"
   ]
  },
  {
   "cell_type": "code",
   "execution_count": 2,
   "id": "formal-context",
   "metadata": {
    "ExecuteTime": {
     "end_time": "2023-09-24T14:59:45.064904Z",
     "start_time": "2023-09-24T14:59:44.250792Z"
    },
    "tags": []
   },
   "outputs": [],
   "source": [
    "def step(state, p1, p2, p3, p4, p5, p6):\n",
    "    \"\"\"Simulate one time step.\n",
    "    \n",
    "    state: bikeshare State object\n",
    "    p1: probability of an A->B ride\n",
    "    p2: probability of a B->A ride\n",
    "    p3: probability of a C->A ride\n",
    "    p4: probability of a A->C ride\n",
    "    p5: probability of a B->C ride\n",
    "    p6: probability of a C->B ride\n",
    "\n",
    "    \"\"\"\n",
    "    \"\"\"\n",
    "    \"\"\"\n",
    "    \"\"\"\n",
    "\n",
    "    \"\"\"\n",
    "    if flip(p1):\n",
    "        A_to_B(state)\n",
    "    \n",
    "    if flip(p2):\n",
    "        B_to_A(state)\n",
    "\n",
    "    if flip(p3):\n",
    "        C_to_A(state)\n",
    "\n",
    "    if flip(p4):\n",
    "        A_to_C(state)\n",
    "\n",
    "    if flip(p5):\n",
    "        B_to_C(state)\n",
    "    \n",
    "    if flip(p6):\n",
    "        C_to_B(state)\n",
    "        \n",
    "def B_to_A(state):\n",
    "    \"\"\"Move one bike from B to A.\n",
    "    \n",
    "    state: bikeshare State object\n",
    "    \"\"\"\n",
    "    if state.B == 0:\n",
    "        state.B_empty += 1\n",
    "        return\n",
    "    state.B -= 1\n",
    "    state.A += 1\n",
    "    \n",
    "def A_to_B(state):\n",
    "    \"\"\"Move one bike from A to B.\n",
    "    \n",
    "    state: bikeshare State object\n",
    "    \"\"\"\n",
    "    if state.A == 0:\n",
    "        state.A_empty += 1\n",
    "        return\n",
    "    state.A -= 1\n",
    "    state.B += 1\n",
    "\n",
    "def C_to_A(state):\n",
    "    \"\"\"Move one bike from C to A.\n",
    "    \n",
    "    state: bikeshare State object\n",
    "    \"\"\"\n",
    "    if state.C == 0:\n",
    "        state.C_empty += 1\n",
    "        return\n",
    "    state.C -= 1\n",
    "    state.A += 1\n",
    "\n",
    "def A_to_C(state):\n",
    "    \"\"\"Move one bike from A to C.\n",
    "    \n",
    "    state: bikeshare State object\n",
    "    \"\"\"\n",
    "    if state.A == 0:\n",
    "        state.A_empty += 1\n",
    "        return\n",
    "    state.A -= 1\n",
    "    state.C += 1\n",
    "\n",
    "def B_to_C(state):\n",
    "    \"\"\"Move one bike from B to C.\n",
    "    \n",
    "    state: bikeshare State object\n",
    "    \"\"\"\n",
    "    if state.B == 0:\n",
    "        state.B_empty += 1\n",
    "        return\n",
    "    state.B -= 1\n",
    "    state.C += 1\n",
    "\n",
    "def C_to_B(state):\n",
    "    \"\"\"Move one bike from C to B.\n",
    "    \n",
    "    state: bikeshare State object\n",
    "    \"\"\"\n",
    "    if state.C == 0:\n",
    "        state.C_empty += 1\n",
    "        return\n",
    "    state.C -= 1\n",
    "    state.B += 1\n",
    "\n",
    "    \n"
   ]
  },
  {
   "cell_type": "code",
   "execution_count": 3,
   "id": "progressive-typing",
   "metadata": {
    "ExecuteTime": {
     "end_time": "2023-09-24T14:59:45.064999Z",
     "start_time": "2023-09-24T14:59:44.260609Z"
    },
    "tags": []
   },
   "outputs": [],
   "source": [
    "def run_simulation(state, p1, p2, p3, p4, p5, p6, num_steps, do_plot=True):\n",
    "    \"\"\"Simulate the given number of time steps.\n",
    "    \n",
    "    state: State object\n",
    "    p1: probability of an A->B customer arrival\n",
    "    p2: probability of a B->A customer arrival\n",
    "    p3: probability of a C->A customer arrival\n",
    "    p4: probability of a A->C customer arrival\n",
    "    p5: probability of a B->C customer arrival\n",
    "    p6: probability of a C->B customer arrival\n",
    "    num_steps: number of time steps\n",
    "    \"\"\"\n",
    "    results_A = TimeSeries()\n",
    "    results_A[0] = state.A\n",
    "    results_B = TimeSeries()\n",
    "    results_B[0] = state.B\n",
    "    results_C = TimeSeries()\n",
    "    results_C[0] = state.C\n",
    "\n",
    "    results_A_unsatisfied = TimeSeries()\n",
    "    results_A_unsatisfied[0] = state.A_empty\n",
    "    results_B_unsatisfied = TimeSeries()\n",
    "    results_B_unsatisfied[0] = state.B_empty\n",
    "    results_C_unsatisfied = TimeSeries()\n",
    "    results_C_unsatisfied[0] = state.C_empty\n",
    "    \n",
    "    for i in range(num_steps):\n",
    "        step(state, p1, p2, p3, p4, p5, p6)\n",
    "        results_A[i+1] = state.A\n",
    "        results_B[i+1] = state.B\n",
    "        results_C[i+1] = state.C\n",
    "        results_A_unsatisfied[i+1] = state.A_empty\n",
    "        results_B_unsatisfied[i+1] = state.B_empty\n",
    "        results_C_unsatisfied[i+1] = state.C_empty\n",
    "        \n",
    "    if (do_plot):\n",
    "        fig, ax = plt.subplots(1,2,figsize=(12,6))\n",
    "        ax[0].plot(results_A, label='A')\n",
    "        ax[0].plot(results_B, label='B')\n",
    "        ax[0].plot(results_C, label='C')\n",
    "        ax[0].set_xlabel('Time step (min)')\n",
    "        ax[0].set_ylabel('Number of bikes')\n",
    "        ax[0].legend()\n",
    "        ax[1].plot(results_A_unsatisfied, label='A')\n",
    "        ax[1].plot(results_B_unsatisfied, label='B')\n",
    "        ax[1].plot(results_C_unsatisfied, label='C')\n",
    "        ax[1].set_xlabel('Time step (min)')\n",
    "        ax[1].set_ylabel('Number of unsatisfied customers')\n",
    "        ax[1].legend()\n",
    "        plt.show()\n",
    "    \n",
    "    return results_A_unsatisfied[num_steps-1] + results_B_unsatisfied[num_steps-1]"
   ]
  },
  {
   "cell_type": "code",
   "execution_count": 4,
   "id": "760647dfb2ea5d9f",
   "metadata": {
    "ExecuteTime": {
     "end_time": "2023-09-24T16:14:42.735037Z",
     "start_time": "2023-09-24T15:19:49.185327Z"
    },
    "collapsed": false
   },
   "outputs": [
    {
     "name": "stdout",
     "output_type": "stream",
     "text": [
      "0 0 100\n"
     ]
    },
    {
     "name": "stdout",
     "output_type": "stream",
     "text": [
      "Average unsatisfied customers:  17.1\n",
      "0 10 90\n",
      "Average unsatisfied customers:  7.34\n",
      "0 20 80\n",
      "Average unsatisfied customers:  2.62\n",
      "0 30 70\n",
      "Average unsatisfied customers:  1.04\n",
      "0 40 60\n",
      "Average unsatisfied customers:  1.56\n",
      "0 50 50\n",
      "Average unsatisfied customers:  1.24\n",
      "0 60 40\n",
      "Average unsatisfied customers:  1.49\n",
      "0 70 30\n",
      "Average unsatisfied customers:  1.39\n",
      "0 80 20\n",
      "Average unsatisfied customers:  1.43\n",
      "0 90 10\n",
      "Average unsatisfied customers:  1.36\n",
      "0 100 0\n",
      "Average unsatisfied customers:  3.54\n",
      "10 0 90\n",
      "Average unsatisfied customers:  12.93\n",
      "10 10 80\n",
      "Average unsatisfied customers:  3.76\n",
      "10 20 70\n",
      "Average unsatisfied customers:  0.29\n",
      "10 30 60\n",
      "Average unsatisfied customers:  0.01\n",
      "10 40 50\n",
      "Average unsatisfied customers:  0.0\n",
      "10 50 40\n",
      "Average unsatisfied customers:  0.0\n",
      "10 60 30\n",
      "Average unsatisfied customers:  0.0\n",
      "10 70 20\n",
      "Average unsatisfied customers:  0.0\n",
      "10 80 10\n",
      "Average unsatisfied customers:  0.01\n",
      "10 90 0\n",
      "Average unsatisfied customers:  0.0\n",
      "20 0 80\n",
      "Average unsatisfied customers:  12.68\n",
      "20 10 70\n",
      "Average unsatisfied customers:  4.52\n",
      "20 20 60\n",
      "Average unsatisfied customers:  0.76\n",
      "20 30 50\n",
      "Average unsatisfied customers:  0.04\n",
      "20 40 40\n",
      "Average unsatisfied customers:  0.0\n",
      "20 50 30\n",
      "Average unsatisfied customers:  0.0\n",
      "20 60 20\n",
      "Average unsatisfied customers:  0.0\n",
      "20 70 10\n",
      "Average unsatisfied customers:  0.0\n",
      "20 80 0\n",
      "Average unsatisfied customers:  0.0\n",
      "30 0 70\n",
      "Average unsatisfied customers:  12.46\n",
      "30 10 60\n",
      "Average unsatisfied customers:  3.73\n",
      "30 20 50\n",
      "Average unsatisfied customers:  0.68\n",
      "30 30 40\n",
      "Average unsatisfied customers:  0.08\n",
      "30 40 30\n",
      "Average unsatisfied customers:  0.0\n",
      "30 50 20\n",
      "Average unsatisfied customers:  0.0\n",
      "30 60 10\n",
      "Average unsatisfied customers:  0.0\n",
      "30 70 0\n",
      "Average unsatisfied customers:  0.0\n",
      "40 0 60\n",
      "Average unsatisfied customers:  13.31\n",
      "40 10 50\n",
      "Average unsatisfied customers:  4.55\n",
      "40 20 40\n",
      "Average unsatisfied customers:  0.59\n",
      "40 30 30\n",
      "Average unsatisfied customers:  0.09\n",
      "40 40 20\n",
      "Average unsatisfied customers:  0.0\n",
      "40 50 10\n",
      "Average unsatisfied customers:  0.0\n",
      "40 60 0\n",
      "Average unsatisfied customers:  0.0\n",
      "50 0 50\n",
      "Average unsatisfied customers:  14.16\n",
      "50 10 40\n",
      "Average unsatisfied customers:  4.11\n",
      "50 20 30\n",
      "Average unsatisfied customers:  0.86\n",
      "50 30 20\n",
      "Average unsatisfied customers:  0.0\n",
      "50 40 10\n",
      "Average unsatisfied customers:  0.0\n",
      "50 50 0\n",
      "Average unsatisfied customers:  0.0\n",
      "60 0 40\n",
      "Average unsatisfied customers:  13.61\n",
      "60 10 30\n",
      "Average unsatisfied customers:  4.49\n",
      "60 20 20\n",
      "Average unsatisfied customers:  0.55\n",
      "60 30 10\n",
      "Average unsatisfied customers:  0.0\n",
      "60 40 0\n",
      "Average unsatisfied customers:  0.0\n",
      "70 0 30\n",
      "Average unsatisfied customers:  12.42\n",
      "70 10 20\n",
      "Average unsatisfied customers:  5.21\n",
      "70 20 10\n",
      "Average unsatisfied customers:  1.21\n",
      "70 30 0\n",
      "Average unsatisfied customers:  0.0\n",
      "80 0 20\n",
      "Average unsatisfied customers:  12.45\n",
      "80 10 10\n",
      "Average unsatisfied customers:  5.71\n",
      "80 20 0\n",
      "Average unsatisfied customers:  1.0\n",
      "90 0 10\n",
      "Average unsatisfied customers:  15.02\n",
      "90 10 0\n",
      "Average unsatisfied customers:  7.62\n",
      "100 0 0\n",
      "Average unsatisfied customers:  17.9\n"
     ]
    }
   ],
   "source": [
    "p_A_to_B = 0.3\n",
    "p_B_to_A = 0.2\n",
    "P_A_to_C = 0.4\n",
    "p_C_to_A = 0.1\n",
    "p_B_to_C = 0.35\n",
    "p_C_to_B = 0.15\n",
    "\n",
    "N_slots = 100\n",
    "\n",
    "nstart = []\n",
    "tu_avg = []\n",
    "\n",
    "num_sims = 100\n",
    "\n",
    "\"\"\"\n",
    "\n",
    "for N_start_A in range(N_slots+1):\n",
    "    nstart.append(N_start_A)\n",
    "    N_start_B = N_slots - N_start_A\n",
    "\n",
    "    print(N_start_A, N_start_B)\n",
    "\n",
    "    tu_sum = 0\n",
    "    \n",
    "    for j in range(num_sims):\n",
    "        bikeshare = State(A=N_start_A, B=N_start_B,\n",
    "                  A_empty=0, B_empty=0)\n",
    "        do_plot = False\n",
    "        total_unsatisfied = run_simulation(bikeshare, p_B_to_A, p_A_to_B, 100, do_plot)\n",
    "\n",
    "        #print(\"Total unsatisfied customers: \", j, total_unsatisfied)\n",
    "        tu_sum += total_unsatisfied\n",
    "    \n",
    "    print(\"Average unsatisfied customers: \", tu_sum/(1.0*num_sims))\n",
    "    tu_avg.append(tu_sum/(1.0*num_sims))\n",
    "\"\"\"\n",
    "\n",
    "for i in range (0, N_slots+1, 10):\n",
    "    nstart.append(i)\n",
    "\n",
    "    # Copilot autofilled the rest of this, and it seems to work\n",
    "\n",
    "    for j in range(0, N_slots+1-i, 10):\n",
    "        N_start_A = i\n",
    "        N_start_B = j\n",
    "        N_start_C = N_slots - N_start_A - N_start_B\n",
    "\n",
    "        print(N_start_A, N_start_B, N_start_C)\n",
    "\n",
    "        tu_sum = 0\n",
    "        \n",
    "        for k in range(num_sims):\n",
    "            bikeshare = State(A=N_start_A, B=N_start_B, C=N_start_C,\n",
    "                      A_empty=0, B_empty=0, C_empty=0)\n",
    "            do_plot = False\n",
    "            total_unsatisfied = run_simulation(bikeshare, p_A_to_B, p_B_to_A, P_A_to_C, p_C_to_A, p_B_to_C, p_C_to_B, 100, do_plot)\n",
    "\n",
    "            #print(\"Total unsatisfied customers: \", j, total_unsatisfied)\n",
    "            tu_sum += total_unsatisfied\n",
    "        \n",
    "        print(\"Average unsatisfied customers: \", tu_sum/(1.0*num_sims))\n",
    "        tu_avg.append(tu_sum/(1.0*num_sims))\n",
    "    \n"
   ]
  },
  {
   "cell_type": "markdown",
   "metadata": {},
   "source": [
    "Looking at the results, It seems like a variety of starting states can result in zero average unsatisfied customers. In general it looks like more bikes at A is best, Then having less bikes at B, and then a minimal number of bikes at C. Which makes sense after looking at the probabilities, as generally there is a greater overall probability to go to A, with B next, and then least probably C. "
   ]
  },
  {
   "cell_type": "code",
   "execution_count": 6,
   "id": "5cdc15f29e14c6d1",
   "metadata": {
    "ExecuteTime": {
     "end_time": "2023-09-24T15:19:09.286027Z",
     "start_time": "2023-09-24T15:19:08.913107Z"
    },
    "collapsed": false
   },
   "outputs": [
    {
     "data": {
      "text/plain": [
       "\"\\ntu_avg_error = 0.1*np.array(tu_avg)\\n\\nfig, ax = plt.subplots(1,1,figsize=(8,8))\\nax.errorbar(nstart, tu_avg, tu_avg_error, label='Average unsatisfied customers')\\nax.set_xlabel('Number of starting bikes at A')\\nax.set_ylabel('Average number of unsatisfied customers')\\nax.legend()\\n\""
      ]
     },
     "execution_count": 6,
     "metadata": {},
     "output_type": "execute_result"
    }
   ],
   "source": [
    "\"\"\"\n",
    "tu_avg_error = 0.1*np.array(tu_avg)\n",
    "\n",
    "fig, ax = plt.subplots(1,1,figsize=(8,8))\n",
    "ax.errorbar(nstart, tu_avg, tu_avg_error, label='Average unsatisfied customers')\n",
    "ax.set_xlabel('Number of starting bikes at A')\n",
    "ax.set_ylabel('Average number of unsatisfied customers')\n",
    "ax.legend()\n",
    "\"\"\""
   ]
  },
  {
   "cell_type": "markdown",
   "id": "8618a00660b30f10",
   "metadata": {
    "collapsed": false
   },
   "source": []
  },
  {
   "cell_type": "markdown",
   "id": "above-denial",
   "metadata": {},
   "source": [
    "## Modeling a Bike Share System\n",
    "\n",
    "Imagine a bike share system for students traveling between A College and B College, which are about three miles apart in eastern Massachusetts.\n",
    "\n",
    "Suppose the system contains 12 bikes and two bike racks, one at A and one at B, each with the capacity to hold 12 bikes.\n",
    "\n",
    "As students arrive, check out a bike, and ride to the other campus, the number of bikes in each location changes. In the simulation, we'll need to keep track of where the bikes are. To do that, we'll use a function called `State`, which is defined in the ModSim library."
   ]
  },
  {
   "cell_type": "code",
   "execution_count": null,
   "id": "incorrect-comparison",
   "metadata": {
    "ExecuteTime": {
     "end_time": "2023-09-24T15:02:46.998258Z",
     "start_time": "2023-09-24T15:02:46.983151Z"
    }
   },
   "outputs": [],
   "source": []
  },
  {
   "cell_type": "markdown",
   "id": "living-wayne",
   "metadata": {},
   "source": []
  },
  {
   "cell_type": "code",
   "execution_count": null,
   "id": "brief-diversity",
   "metadata": {
    "ExecuteTime": {
     "end_time": "2023-09-24T15:02:46.998462Z",
     "start_time": "2023-09-24T15:02:46.987343Z"
    }
   },
   "outputs": [],
   "source": []
  },
  {
   "cell_type": "markdown",
   "id": "intermediate-midwest",
   "metadata": {},
   "source": []
  },
  {
   "cell_type": "code",
   "execution_count": null,
   "id": "designed-brazilian",
   "metadata": {
    "ExecuteTime": {
     "end_time": "2023-09-24T15:02:47.046985Z",
     "start_time": "2023-09-24T15:02:46.991091Z"
    }
   },
   "outputs": [],
   "source": []
  },
  {
   "cell_type": "markdown",
   "id": "phantom-oklahoma",
   "metadata": {},
   "source": []
  },
  {
   "cell_type": "code",
   "execution_count": null,
   "id": "impaired-potter",
   "metadata": {
    "ExecuteTime": {
     "end_time": "2023-09-24T15:02:47.089078Z",
     "start_time": "2023-09-24T15:02:46.995049Z"
    }
   },
   "outputs": [],
   "source": []
  },
  {
   "cell_type": "markdown",
   "id": "vital-journal",
   "metadata": {},
   "source": []
  },
  {
   "cell_type": "markdown",
   "id": "fleet-beijing",
   "metadata": {
    "tags": []
   },
   "source": []
  },
  {
   "cell_type": "code",
   "execution_count": null,
   "id": "basic-fabric",
   "metadata": {
    "ExecuteTime": {
     "end_time": "2023-09-24T15:02:47.089806Z",
     "start_time": "2023-09-24T15:02:47.000301Z"
    },
    "tags": []
   },
   "outputs": [],
   "source": []
  },
  {
   "cell_type": "markdown",
   "id": "specified-definition",
   "metadata": {
    "tags": []
   },
   "source": []
  },
  {
   "cell_type": "markdown",
   "id": "delayed-ocean",
   "metadata": {},
   "source": []
  },
  {
   "cell_type": "code",
   "execution_count": null,
   "id": "floppy-trainer",
   "metadata": {
    "ExecuteTime": {
     "end_time": "2023-09-24T15:02:47.090029Z",
     "start_time": "2023-09-24T15:02:47.002902Z"
    }
   },
   "outputs": [],
   "source": []
  },
  {
   "cell_type": "markdown",
   "id": "natural-gossip",
   "metadata": {},
   "source": []
  },
  {
   "cell_type": "code",
   "execution_count": null,
   "id": "hungarian-bride",
   "metadata": {
    "ExecuteTime": {
     "end_time": "2023-09-24T15:02:47.090128Z",
     "start_time": "2023-09-24T15:02:47.006546Z"
    }
   },
   "outputs": [],
   "source": []
  },
  {
   "cell_type": "markdown",
   "id": "radical-mills",
   "metadata": {},
   "source": []
  },
  {
   "cell_type": "markdown",
   "id": "controversial-opportunity",
   "metadata": {},
   "source": []
  },
  {
   "cell_type": "code",
   "execution_count": null,
   "id": "vertical-drawing",
   "metadata": {
    "ExecuteTime": {
     "end_time": "2023-09-24T15:02:47.090210Z",
     "start_time": "2023-09-24T15:02:47.009634Z"
    }
   },
   "outputs": [],
   "source": []
  },
  {
   "cell_type": "markdown",
   "id": "approximate-rolling",
   "metadata": {},
   "source": []
  },
  {
   "cell_type": "code",
   "execution_count": null,
   "id": "significant-nutrition",
   "metadata": {
    "ExecuteTime": {
     "end_time": "2023-09-24T15:02:47.090292Z",
     "start_time": "2023-09-24T15:02:47.016597Z"
    }
   },
   "outputs": [],
   "source": []
  },
  {
   "cell_type": "markdown",
   "id": "generous-tracker",
   "metadata": {},
   "source": []
  },
  {
   "cell_type": "code",
   "execution_count": null,
   "id": "moving-jurisdiction",
   "metadata": {
    "ExecuteTime": {
     "end_time": "2023-09-24T15:02:47.090374Z",
     "start_time": "2023-09-24T15:02:47.020312Z"
    }
   },
   "outputs": [],
   "source": []
  },
  {
   "cell_type": "markdown",
   "id": "meaningful-christmas",
   "metadata": {},
   "source": []
  },
  {
   "cell_type": "code",
   "execution_count": null,
   "id": "proper-symposium",
   "metadata": {
    "ExecuteTime": {
     "end_time": "2023-09-24T15:02:47.090451Z",
     "start_time": "2023-09-24T15:02:47.023370Z"
    }
   },
   "outputs": [],
   "source": []
  },
  {
   "cell_type": "markdown",
   "id": "eleven-brook",
   "metadata": {},
   "source": []
  },
  {
   "cell_type": "code",
   "execution_count": null,
   "id": "identical-yacht",
   "metadata": {
    "ExecuteTime": {
     "end_time": "2023-09-24T15:02:47.090527Z",
     "start_time": "2023-09-24T15:02:47.026423Z"
    }
   },
   "outputs": [],
   "source": []
  },
  {
   "cell_type": "markdown",
   "id": "premier-youth",
   "metadata": {},
   "source": []
  },
  {
   "cell_type": "markdown",
   "id": "brazilian-medicare",
   "metadata": {},
   "source": []
  },
  {
   "cell_type": "code",
   "execution_count": null,
   "id": "heavy-patrol",
   "metadata": {
    "ExecuteTime": {
     "end_time": "2023-09-24T15:02:47.090602Z",
     "start_time": "2023-09-24T15:02:47.030354Z"
    }
   },
   "outputs": [],
   "source": []
  },
  {
   "cell_type": "markdown",
   "id": "ancient-projection",
   "metadata": {},
   "source": []
  },
  {
   "cell_type": "code",
   "execution_count": null,
   "id": "french-preference",
   "metadata": {
    "ExecuteTime": {
     "end_time": "2023-09-24T15:02:47.090706Z",
     "start_time": "2023-09-24T15:02:47.033572Z"
    }
   },
   "outputs": [],
   "source": []
  },
  {
   "cell_type": "markdown",
   "id": "original-hollywood",
   "metadata": {},
   "source": []
  },
  {
   "cell_type": "code",
   "execution_count": null,
   "id": "alternative-keyboard",
   "metadata": {
    "ExecuteTime": {
     "end_time": "2023-09-24T15:02:47.090788Z",
     "start_time": "2023-09-24T15:02:47.036378Z"
    }
   },
   "outputs": [],
   "source": []
  },
  {
   "cell_type": "markdown",
   "id": "described-produce",
   "metadata": {},
   "source": []
  },
  {
   "cell_type": "code",
   "execution_count": null,
   "id": "robust-holly",
   "metadata": {
    "ExecuteTime": {
     "end_time": "2023-09-24T15:02:47.090866Z",
     "start_time": "2023-09-24T15:02:47.039593Z"
    }
   },
   "outputs": [],
   "source": []
  },
  {
   "cell_type": "markdown",
   "id": "vital-lender",
   "metadata": {},
   "source": []
  },
  {
   "cell_type": "code",
   "execution_count": null,
   "id": "fifteen-atmosphere",
   "metadata": {
    "ExecuteTime": {
     "end_time": "2023-09-24T15:02:47.090973Z",
     "start_time": "2023-09-24T15:02:47.042490Z"
    }
   },
   "outputs": [],
   "source": []
  },
  {
   "cell_type": "markdown",
   "id": "requested-glasgow",
   "metadata": {},
   "source": []
  },
  {
   "cell_type": "code",
   "execution_count": null,
   "id": "matched-narrow",
   "metadata": {
    "ExecuteTime": {
     "end_time": "2023-09-24T15:02:47.106530Z",
     "start_time": "2023-09-24T15:02:47.047583Z"
    }
   },
   "outputs": [],
   "source": []
  },
  {
   "cell_type": "markdown",
   "id": "sitting-semiconductor",
   "metadata": {},
   "source": []
  },
  {
   "cell_type": "markdown",
   "id": "enhanced-maintenance",
   "metadata": {},
   "source": []
  },
  {
   "cell_type": "code",
   "execution_count": null,
   "id": "29c1f41a",
   "metadata": {
    "ExecuteTime": {
     "end_time": "2023-09-24T15:02:47.106812Z",
     "start_time": "2023-09-24T15:02:47.050762Z"
    },
    "tags": []
   },
   "outputs": [],
   "source": []
  },
  {
   "cell_type": "code",
   "execution_count": null,
   "id": "illegal-metropolitan",
   "metadata": {
    "ExecuteTime": {
     "end_time": "2023-09-24T15:02:47.106912Z",
     "start_time": "2023-09-24T15:02:47.053858Z"
    }
   },
   "outputs": [],
   "source": []
  },
  {
   "cell_type": "markdown",
   "id": "appropriate-funds",
   "metadata": {},
   "source": []
  },
  {
   "cell_type": "code",
   "execution_count": null,
   "id": "excessive-murder",
   "metadata": {
    "ExecuteTime": {
     "end_time": "2023-09-24T15:02:47.107001Z",
     "start_time": "2023-09-24T15:02:47.057119Z"
    }
   },
   "outputs": [],
   "source": []
  },
  {
   "cell_type": "markdown",
   "id": "seventh-profile",
   "metadata": {},
   "source": []
  },
  {
   "cell_type": "code",
   "execution_count": null,
   "id": "fundamental-nursing",
   "metadata": {
    "ExecuteTime": {
     "end_time": "2023-09-24T15:02:47.107083Z",
     "start_time": "2023-09-24T15:02:47.061211Z"
    }
   },
   "outputs": [],
   "source": [
    "  "
   ]
  },
  {
   "cell_type": "markdown",
   "id": "recovered-chemical",
   "metadata": {},
   "source": []
  },
  {
   "cell_type": "code",
   "execution_count": null,
   "id": "twenty-health",
   "metadata": {
    "ExecuteTime": {
     "end_time": "2023-09-24T15:02:47.309445Z",
     "start_time": "2023-09-24T15:02:47.065228Z"
    }
   },
   "outputs": [],
   "source": []
  },
  {
   "cell_type": "markdown",
   "id": "difficult-construction",
   "metadata": {},
   "source": []
  },
  {
   "cell_type": "code",
   "execution_count": null,
   "id": "played-character",
   "metadata": {
    "ExecuteTime": {
     "end_time": "2023-09-24T15:02:47.309633Z",
     "start_time": "2023-09-24T15:02:47.070325Z"
    }
   },
   "outputs": [],
   "source": []
  },
  {
   "cell_type": "markdown",
   "id": "standard-party",
   "metadata": {},
   "source": []
  },
  {
   "cell_type": "code",
   "execution_count": null,
   "id": "ecological-colon",
   "metadata": {
    "ExecuteTime": {
     "end_time": "2023-09-24T15:02:47.309730Z",
     "start_time": "2023-09-24T15:02:47.074009Z"
    }
   },
   "outputs": [],
   "source": []
  },
  {
   "cell_type": "markdown",
   "id": "amateur-exposure",
   "metadata": {},
   "source": []
  },
  {
   "cell_type": "code",
   "execution_count": null,
   "id": "mediterranean-german",
   "metadata": {
    "ExecuteTime": {
     "end_time": "2023-09-24T15:02:47.309809Z",
     "start_time": "2023-09-24T15:02:47.076822Z"
    }
   },
   "outputs": [],
   "source": []
  },
  {
   "cell_type": "markdown",
   "id": "sought-mobile",
   "metadata": {},
   "source": []
  },
  {
   "cell_type": "markdown",
   "id": "organic-proportion",
   "metadata": {},
   "source": []
  },
  {
   "cell_type": "code",
   "execution_count": null,
   "id": "hollywood-shopping",
   "metadata": {
    "ExecuteTime": {
     "end_time": "2023-09-24T15:02:47.309886Z",
     "start_time": "2023-09-24T15:02:47.081085Z"
    }
   },
   "outputs": [],
   "source": []
  },
  {
   "cell_type": "markdown",
   "id": "encouraging-arkansas",
   "metadata": {},
   "source": []
  },
  {
   "cell_type": "code",
   "execution_count": null,
   "id": "buried-alert",
   "metadata": {
    "ExecuteTime": {
     "end_time": "2023-09-24T15:02:47.309962Z",
     "start_time": "2023-09-24T15:02:47.084653Z"
    }
   },
   "outputs": [],
   "source": []
  },
  {
   "cell_type": "markdown",
   "id": "aggregate-dynamics",
   "metadata": {},
   "source": []
  },
  {
   "cell_type": "code",
   "execution_count": null,
   "id": "recognized-denmark",
   "metadata": {
    "ExecuteTime": {
     "end_time": "2023-09-24T15:02:47.415877Z",
     "start_time": "2023-09-24T15:02:47.088370Z"
    }
   },
   "outputs": [],
   "source": []
  },
  {
   "cell_type": "markdown",
   "id": "raised-museum",
   "metadata": {},
   "source": []
  },
  {
   "cell_type": "markdown",
   "id": "scenic-african",
   "metadata": {},
   "source": []
  },
  {
   "cell_type": "code",
   "execution_count": null,
   "id": "polish-river",
   "metadata": {
    "ExecuteTime": {
     "end_time": "2023-09-24T15:02:47.416478Z",
     "start_time": "2023-09-24T15:02:47.092340Z"
    }
   },
   "outputs": [],
   "source": []
  },
  {
   "cell_type": "markdown",
   "id": "compatible-conspiracy",
   "metadata": {},
   "source": []
  },
  {
   "cell_type": "markdown",
   "id": "breeding-groove",
   "metadata": {},
   "source": []
  },
  {
   "cell_type": "code",
   "execution_count": null,
   "id": "8f318e6f58ef96c",
   "metadata": {
    "ExecuteTime": {
     "end_time": "2023-09-24T15:02:47.416577Z",
     "start_time": "2023-09-24T15:02:47.095708Z"
    },
    "collapsed": false
   },
   "outputs": [],
   "source": []
  },
  {
   "cell_type": "code",
   "execution_count": null,
   "id": "every-consultation",
   "metadata": {
    "ExecuteTime": {
     "end_time": "2023-09-24T15:02:47.417743Z",
     "start_time": "2023-09-24T15:02:47.099519Z"
    }
   },
   "outputs": [],
   "source": []
  },
  {
   "cell_type": "markdown",
   "id": "cross-sharp",
   "metadata": {},
   "source": []
  },
  {
   "cell_type": "code",
   "execution_count": null,
   "id": "changing-planet",
   "metadata": {
    "ExecuteTime": {
     "end_time": "2023-09-24T15:02:47.460253Z",
     "start_time": "2023-09-24T15:02:47.104502Z"
    }
   },
   "outputs": [],
   "source": []
  },
  {
   "cell_type": "markdown",
   "id": "attractive-revision",
   "metadata": {},
   "source": []
  },
  {
   "cell_type": "code",
   "execution_count": null,
   "id": "aquatic-richardson",
   "metadata": {
    "ExecuteTime": {
     "end_time": "2023-09-24T15:02:47.460488Z",
     "start_time": "2023-09-24T15:02:47.108264Z"
    }
   },
   "outputs": [],
   "source": []
  },
  {
   "cell_type": "markdown",
   "id": "searching-funeral",
   "metadata": {},
   "source": []
  },
  {
   "cell_type": "code",
   "execution_count": null,
   "id": "english-titanium",
   "metadata": {
    "ExecuteTime": {
     "end_time": "2023-09-24T15:02:47.460595Z",
     "start_time": "2023-09-24T15:02:47.111966Z"
    }
   },
   "outputs": [],
   "source": []
  },
  {
   "cell_type": "markdown",
   "id": "prospective-joining",
   "metadata": {},
   "source": []
  },
  {
   "cell_type": "code",
   "execution_count": null,
   "id": "indonesian-singing",
   "metadata": {
    "ExecuteTime": {
     "end_time": "2023-09-24T15:02:47.460678Z",
     "start_time": "2023-09-24T15:02:47.122215Z"
    }
   },
   "outputs": [],
   "source": []
  },
  {
   "cell_type": "markdown",
   "id": "small-encoding",
   "metadata": {},
   "source": []
  },
  {
   "cell_type": "markdown",
   "id": "following-contrary",
   "metadata": {},
   "source": []
  },
  {
   "cell_type": "code",
   "execution_count": null,
   "id": "saved-hands",
   "metadata": {
    "ExecuteTime": {
     "end_time": "2023-09-24T15:02:47.460755Z",
     "start_time": "2023-09-24T15:02:47.125111Z"
    }
   },
   "outputs": [],
   "source": []
  },
  {
   "cell_type": "markdown",
   "id": "egyptian-korea",
   "metadata": {},
   "source": []
  },
  {
   "cell_type": "markdown",
   "id": "limited-interstate",
   "metadata": {},
   "source": []
  },
  {
   "cell_type": "markdown",
   "id": "fallen-surprise",
   "metadata": {},
   "source": [
    "\n"
   ]
  },
  {
   "cell_type": "markdown",
   "id": "capital-internship",
   "metadata": {},
   "source": []
  },
  {
   "cell_type": "code",
   "execution_count": null,
   "id": "helpful-zambia",
   "metadata": {
    "ExecuteTime": {
     "end_time": "2023-09-24T15:02:47.460830Z",
     "start_time": "2023-09-24T15:02:47.128925Z"
    }
   },
   "outputs": [],
   "source": []
  },
  {
   "cell_type": "markdown",
   "id": "dirty-multiple",
   "metadata": {},
   "source": []
  },
  {
   "cell_type": "code",
   "execution_count": null,
   "id": "beneficial-mainland",
   "metadata": {
    "ExecuteTime": {
     "end_time": "2023-09-24T15:02:47.460904Z",
     "start_time": "2023-09-24T15:02:47.132400Z"
    }
   },
   "outputs": [],
   "source": []
  },
  {
   "cell_type": "markdown",
   "id": "christian-madrid",
   "metadata": {},
   "source": [
    "\n"
   ]
  },
  {
   "cell_type": "code",
   "execution_count": null,
   "id": "former-frost",
   "metadata": {
    "ExecuteTime": {
     "end_time": "2023-09-24T15:02:47.460980Z",
     "start_time": "2023-09-24T15:02:47.136157Z"
    }
   },
   "outputs": [],
   "source": []
  },
  {
   "cell_type": "code",
   "execution_count": null,
   "id": "spare-honduras",
   "metadata": {
    "ExecuteTime": {
     "end_time": "2023-09-24T15:02:47.461056Z",
     "start_time": "2023-09-24T15:02:47.138720Z"
    }
   },
   "outputs": [],
   "source": []
  },
  {
   "cell_type": "markdown",
   "id": "instructional-finnish",
   "metadata": {},
   "source": [
    "## Under the Hood\n",
    "\n",
    "This section contains additional information about the functions we've used and pointers to their documentation.\n",
    "\n",
    "You don't need to know anything in this section, so if you are already feeling overwhelmed, you might want to skip it.\n",
    "But if you are curious, read on."
   ]
  },
  {
   "cell_type": "markdown",
   "id": "quick-citizen",
   "metadata": {},
   "source": [
    "`State` and `TimeSeries` objects are based on the `Series` object defined by the Pandas library.\n",
    "The documentation is at <https://pandas.pydata.org/pandas-docs/stable/reference/api/pandas.Series.html>.\n",
    "\n",
    "`Series` objects provide their own `plot` function, which is why we call it like this:\n",
    "\n",
    "```\n",
    "results.plot()\n",
    "```\n",
    "\n",
    "Instead of like this:\n",
    "\n",
    "```\n",
    "plot(results)\n",
    "```\n",
    "\n",
    "You can read the documentation of `Series.plot` at <https://pandas.pydata.org/pandas-docs/stable/reference/api/pandas.Series.plot.html>."
   ]
  },
  {
   "cell_type": "markdown",
   "id": "digital-stretch",
   "metadata": {},
   "source": [
    "`decorate` is based on Matplotlib, which is a widely used plotting library for Python.  Matplotlib provides separate functions for `title`, `xlabel`, and `ylabel`.\n",
    "`decorate` makes them a little easier to use.\n",
    "For the list of keyword arguments you can pass to `decorate`, see <https://matplotlib.org/3.2.2/api/axes_api.html?highlight=axes#module-matplotlib.axes>.\n",
    "\n",
    "The `flip` function uses NumPy's `random` function to generate a random number between 0 and 1, then returns `True` or `False` with the given probability.\n",
    "\n",
    "You can get the source code for `flip` (or any other function) by running the following cell."
   ]
  },
  {
   "cell_type": "code",
   "execution_count": null,
   "id": "agricultural-midwest",
   "metadata": {
    "ExecuteTime": {
     "end_time": "2023-09-24T15:02:47.461245Z",
     "start_time": "2023-09-24T15:02:47.142085Z"
    }
   },
   "outputs": [
    {
     "name": "stdout",
     "output_type": "stream",
     "text": [
      "def flip(p=0.5):\n",
      "    \"\"\"Flips a coin with the given probability.\n",
      "\n",
      "    p: float 0-1\n",
      "\n",
      "    returns: boolean (True or False)\n",
      "    \"\"\"\n",
      "    return np.random.random() < p\n",
      "\n"
     ]
    }
   ],
   "source": [
    "source_code(flip)"
   ]
  },
  {
   "cell_type": "code",
   "execution_count": null,
   "id": "junior-lindsay",
   "metadata": {
    "ExecuteTime": {
     "end_time": "2023-09-24T15:02:47.461324Z",
     "start_time": "2023-09-24T15:02:47.146928Z"
    }
   },
   "outputs": [],
   "source": []
  },
  {
   "cell_type": "code",
   "execution_count": null,
   "id": "9c2ef8f0c1c32f7",
   "metadata": {
    "ExecuteTime": {
     "end_time": "2023-09-24T15:02:47.461399Z",
     "start_time": "2023-09-24T15:02:47.150879Z"
    },
    "collapsed": false
   },
   "outputs": [],
   "source": []
  }
 ],
 "metadata": {
  "celltoolbar": "Tags",
  "kernelspec": {
   "display_name": "Python 3 (ipykernel)",
   "language": "python",
   "name": "python3"
  },
  "language_info": {
   "codemirror_mode": {
    "name": "ipython",
    "version": 3
   },
   "file_extension": ".py",
   "mimetype": "text/x-python",
   "name": "python",
   "nbconvert_exporter": "python",
   "pygments_lexer": "ipython3",
   "version": "3.11.5"
  }
 },
 "nbformat": 4,
 "nbformat_minor": 5
}
