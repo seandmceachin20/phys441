{
 "cells": [
  {
   "cell_type": "markdown",
   "metadata": {},
   "source": [
    "# Warhammer 40,000\n",
    "\n",
    "Warhammer 40k is a tabletop wargame built around models and dice-rolling, it just so happens my friends and I have recently become rather obsessed with the game, and while learning the rules a number of interesting interactions have cropped up that might be fun to investigate."
   ]
  },
  {
   "cell_type": "markdown",
   "metadata": {},
   "source": [
    "### Our combatants\n",
    "In order to investigate these interactions, we can simulate a skirmish between two simple squads of infantry. I wanted to avoid space marines initially, since theyre the poster boys of this game and always get the attention, but after reviewing the statistics they actually poses a number of properties that will make them ideal for this investigation. Notably they require 2 wounds to eliminate a model, compared to the 1 wound of most other infantry. This could result in unexpected interactions with certain weapons.\n",
    "\n",
    "Let's go with a squad of 7 Chaos Plague Marines versus a squad of 10 Imperial Guard Stormtroopers, each of these units cost 110 points, so in theory they should be evenly matched."
   ]
  },
  {
   "cell_type": "markdown",
   "metadata": {},
   "source": [
    "Before we start throwing too many variables in the mix, let's figure out how to simulate combat, luckily combat in warhammer is just math. Each model has a number of attacks, and each attack has a chance to hit, a chance to wound, and a chance to be saved. So let's start with the simplest case, a single model attacking another single model."
   ]
  },
  {
   "cell_type": "markdown",
   "metadata": {},
   "source": [
    "Combat in warhammer is just rolling d6 dice, the higher number rolled, the better the result. More powerfull units will usually require a lower result to achieve a success. For example a typical guardsman needs a 4+ to hit, while a space marine needs a 3+. In this case we'll assume our plague marine is attacking a Stormtrooper, so we'll need a 3+ to hit."
   ]
  },
  {
   "cell_type": "code",
   "execution_count": 1,
   "metadata": {},
   "outputs": [],
   "source": [
    "PM_attacks = 2 # The boltgun used by the Plaguemarines fires two shots\n",
    "PM_hit = 3 # The Plaguemarines have a ballistic skill of 3+\n",
    "PM_damage = 1  # The boltgun has a damage characteristic of 1\n",
    "PM_wound = 3 # The boltgun has a strength of 4, while the Stormtroopers have a toughness of 3\n",
    "PM_AP = 0 # The boltgun has no AP\n",
    "PM_HP = 2 # The Plaguemarines have 2 wounds each\n",
    "PM_save = 3 # The Plaguemarines have a save of 3+\n",
    "\n",
    "ST_attacks = 1 # The HS-Lasgun used by the Stormtroopers fires one shot\n",
    "ST_hit = 4 # The Stormtroopers have a ballistic skill of 4+\n",
    "ST_damage = 1 # The HS-Lasgun has a damage characteristic of 1\n",
    "ST_wound = 5 # The HS-Lasgun has a strength of 3, while the Plaguemarines have a toughness of 4\n",
    "ST_AP = -1 # The HS-Lasgun has an AP of -1\n",
    "ST_HP = 1 # The Stormtroopers have one wound each\n",
    "ST_save = 4# The Stormtroopers have a save of 4+\n"
   ]
  },
  {
   "cell_type": "markdown",
   "metadata": {},
   "source": [
    "Let's make a simple function to roll a d6 and return the result."
   ]
  },
  {
   "cell_type": "code",
   "execution_count": 2,
   "metadata": {},
   "outputs": [
    {
     "name": "stdout",
     "output_type": "stream",
     "text": [
      "[6 3 4 5 2 4 1 4 2 1]\n"
     ]
    }
   ],
   "source": [
    "import random\n",
    "import numpy as np\n",
    "def roll(n):\n",
    "    # Rolling n d6 dice, and storing them in a list\n",
    "    return np.asarray([random.randint(1,6) for i in range(n)])\n",
    "\n",
    "print(roll(10))"
   ]
  },
  {
   "cell_type": "markdown",
   "metadata": {},
   "source": [
    "Let's see what happens when that one plague marine attacks a single Stormtrooper."
   ]
  },
  {
   "cell_type": "code",
   "execution_count": 3,
   "metadata": {},
   "outputs": [
    {
     "data": {
      "text/plain": [
       "array([1, 4])"
      ]
     },
     "execution_count": 3,
     "metadata": {},
     "output_type": "execute_result"
    }
   ],
   "source": [
    "# roll 2 d6, for two attacks\n",
    "rolls = roll(PM_attacks)\n",
    "rolls"
   ]
  },
  {
   "cell_type": "markdown",
   "metadata": {},
   "source": [
    "We can now use numpy to filter out only the successes."
   ]
  },
  {
   "cell_type": "code",
   "execution_count": 4,
   "metadata": {},
   "outputs": [
    {
     "data": {
      "text/plain": [
       "1"
      ]
     },
     "execution_count": 4,
     "metadata": {},
     "output_type": "execute_result"
    }
   ],
   "source": [
    "hits = sum(rolls >= PM_hit)\n",
    "hits"
   ]
  },
  {
   "cell_type": "markdown",
   "metadata": {},
   "source": [
    "Now let's see if any of those wound."
   ]
  },
  {
   "cell_type": "code",
   "execution_count": 5,
   "metadata": {},
   "outputs": [
    {
     "data": {
      "text/plain": [
       "0"
      ]
     },
     "execution_count": 5,
     "metadata": {},
     "output_type": "execute_result"
    }
   ],
   "source": [
    "# get number of hits\n",
    "wounds = sum(roll(hits) >= PM_wound)\n",
    "wounds"
   ]
  },
  {
   "cell_type": "markdown",
   "metadata": {},
   "source": [
    "Now the Stormtrooper gets to make a save, which is a 4+.\n",
    "\n",
    "interesting to note here, the Stormtrooper takes damage if he fails his save, so unlike the previous rolls we are looking for rolls that are less than the save"
   ]
  },
  {
   "cell_type": "code",
   "execution_count": 6,
   "metadata": {},
   "outputs": [
    {
     "data": {
      "text/plain": [
       "0"
      ]
     },
     "execution_count": 6,
     "metadata": {},
     "output_type": "execute_result"
    }
   ],
   "source": [
    "damage = sum(roll(wounds) < ST_save+PM_AP) # The Stormtroopers have a save of 4+, while the boltgun has an AP of 0 so the save is 4+\n",
    "damage"
   ]
  },
  {
   "cell_type": "markdown",
   "metadata": {},
   "source": [
    "Now we subtract the damage from the Stormtroopers health."
   ]
  },
  {
   "cell_type": "code",
   "execution_count": 7,
   "metadata": {},
   "outputs": [
    {
     "data": {
      "text/plain": [
       "1"
      ]
     },
     "execution_count": 7,
     "metadata": {},
     "output_type": "execute_result"
    }
   ],
   "source": [
    "HP_remaining = ST_HP - damage\n",
    "HP_remaining"
   ]
  },
  {
   "cell_type": "markdown",
   "metadata": {},
   "source": [
    "In this particular instance, the Plaguemarine failed to hit the Stormtrooper, so the Stormtrooper took no damage.\n",
    "\n",
    "Now let's scale this up to whole squads.\n",
    "\n",
    "An interesting hurdle here is how the Plaguemarines get 2 wounds each, so we cant simply treat their squad as a big blob of HP, as damage doesnt bleed over from model to model. If a model with 2HP takes 6 damage, the remaining 4 damage is wasted. The same goes for the Stormtroopers, if a model with 1HP takes 6 damage, the remaining 5 damage is wasted."
   ]
  },
  {
   "cell_type": "code",
   "execution_count": 8,
   "metadata": {},
   "outputs": [],
   "source": [
    "ST_squad = np.asarray([1,1,1,1,1,1,1,1,1,1]) # 10 stormtroopers each have 1 HP\n",
    "PM_squad = np.asarray([2,2,2,2,2,2,2]) # 7 Plaguemarines each have 2 HP"
   ]
  },
  {
   "cell_type": "markdown",
   "metadata": {},
   "source": [
    "Let's give the Stormtroopers a chance to shoot back, this time the whole squad."
   ]
  },
  {
   "cell_type": "code",
   "execution_count": 9,
   "metadata": {},
   "outputs": [
    {
     "data": {
      "text/plain": [
       "4"
      ]
     },
     "execution_count": 9,
     "metadata": {},
     "output_type": "execute_result"
    }
   ],
   "source": [
    "ST_squad_hits = sum(roll(len(ST_squad)*ST_attacks) >= ST_hit)\n",
    "ST_squad_hits"
   ]
  },
  {
   "cell_type": "code",
   "execution_count": 10,
   "metadata": {},
   "outputs": [
    {
     "data": {
      "text/plain": [
       "0"
      ]
     },
     "execution_count": 10,
     "metadata": {},
     "output_type": "execute_result"
    }
   ],
   "source": [
    "ST_squad_wounds = sum(roll(ST_squad_hits) >= ST_wound)\n",
    "ST_squad_wounds"
   ]
  },
  {
   "cell_type": "code",
   "execution_count": 11,
   "metadata": {},
   "outputs": [
    {
     "data": {
      "text/plain": [
       "0"
      ]
     },
     "execution_count": 11,
     "metadata": {},
     "output_type": "execute_result"
    }
   ],
   "source": [
    "ST_squad_successes = sum(roll(ST_squad_wounds) < PM_save+ST_AP)\n",
    "ST_squad_successes"
   ]
  },
  {
   "cell_type": "markdown",
   "metadata": {},
   "source": [
    "Now it's important here we dont simply subtract this damage from the HP pool of the squad, instead it will be aplied to each model"
   ]
  },
  {
   "cell_type": "code",
   "execution_count": 12,
   "metadata": {},
   "outputs": [
    {
     "data": {
      "text/plain": [
       "array([2, 2, 2, 2, 2, 2, 2])"
      ]
     },
     "execution_count": 12,
     "metadata": {},
     "output_type": "execute_result"
    }
   ],
   "source": [
    "for success in range(ST_squad_successes):\n",
    "    PM_squad[0] -= 1 * ST_damage\n",
    "    if PM_squad[0] <= 0:\n",
    "        PM_squad = np.delete(PM_squad, 0)\n",
    "        if len(PM_squad) == 0:\n",
    "            break\n",
    "\n",
    "PM_squad"
   ]
  },
  {
   "cell_type": "markdown",
   "metadata": {},
   "source": [
    "We can continue this back and forth, and whichever squad is the last one standing wins."
   ]
  },
  {
   "cell_type": "code",
   "execution_count": 13,
   "metadata": {},
   "outputs": [],
   "source": [
    "\n",
    "def ST_shoot(ST_squad, PM_squad):\n",
    "    # Stormtroopers shoot at Plaguemarines\n",
    "    ST_squad_hits = sum(roll(len(ST_squad)*ST_attacks) >= ST_hit)\n",
    "    ST_squad_wounds = sum(roll(ST_squad_hits) >= ST_wound)\n",
    "    ST_squad_successes = sum(roll(ST_squad_wounds) < PM_save+ST_AP)\n",
    "    for success in range(ST_squad_successes):\n",
    "        PM_squad[0] -= 1 * ST_damage\n",
    "        if PM_squad[0] <= 0:\n",
    "            PM_squad = np.delete(PM_squad, 0)\n",
    "            if len(PM_squad) == 0:\n",
    "                break\n",
    "    return ST_squad, PM_squad\n",
    "\n",
    "def PM_shoot(PM_squad, ST_squad):\n",
    "    # Plaguemarines shoot at Stormtroopers\n",
    "    PM_squad_hits = sum(roll(len(PM_squad)*PM_attacks) >= PM_hit)\n",
    "    PM_squad_wounds = sum(roll(PM_squad_hits) >= PM_wound)\n",
    "    PM_squad_successes = sum(roll(PM_squad_wounds) < ST_save+PM_AP)\n",
    "    for success in range(PM_squad_successes):\n",
    "        ST_squad[0] -= 1 * PM_damage\n",
    "        if ST_squad[0] <= 0:\n",
    "            ST_squad = np.delete(ST_squad, 0)\n",
    "            if len(ST_squad) == 0:\n",
    "                break\n",
    "    return PM_squad, ST_squad\n",
    "\n",
    "def fight(ST_squad, PM_squad, first = np.random.choice([0,1])):\n",
    "    # Fight until one squad is dead or round 10\n",
    "    round = 1\n",
    "    rounds = np.zeros((10,2))\n",
    "    if first == 0:\n",
    "        while  round <= 9:\n",
    "            if len(ST_squad) > 0 and len(PM_squad) > 0:\n",
    "                ST_squad, PM_squad = ST_shoot(ST_squad, PM_squad)\n",
    "            if len(ST_squad) > 0 and len(PM_squad) > 0:\n",
    "                PM_squad, ST_squad = PM_shoot(PM_squad, ST_squad)\n",
    "            rounds[round] = [len(ST_squad), len(PM_squad)]\n",
    "            round += 1\n",
    "        if len(ST_squad) == 0:\n",
    "            return \"Plaguemarines win!\", PM_squad, rounds\n",
    "        elif len(PM_squad) == 0:\n",
    "            return \"Stormtroopers win!\", ST_squad, rounds\n",
    "        else:\n",
    "            return \"Draw!\", ST_squad, PM_squad, rounds\n",
    "        \n",
    "    elif first == 1:\n",
    "        while  round <= 9:\n",
    "            if len(ST_squad) > 0 and len(PM_squad) > 0:\n",
    "                PM_squad, ST_squad = PM_shoot(PM_squad, ST_squad)\n",
    "            if len(ST_squad) > 0 and len(PM_squad) > 0:\n",
    "                ST_squad, PM_squad = ST_shoot(ST_squad, PM_squad)\n",
    "            rounds[round] = [len(ST_squad), len(PM_squad)]\n",
    "            round += 1\n",
    "        if len(ST_squad) == 0:\n",
    "            return \"Plaguemarines win!\", PM_squad, rounds\n",
    "        elif len(PM_squad) == 0:\n",
    "            return \"Stormtroopers win!\", ST_squad, rounds\n",
    "        else:\n",
    "            return \"Draw!\", ST_squad, PM_squad, rounds\n",
    "        "
   ]
  },
  {
   "cell_type": "code",
   "execution_count": 14,
   "metadata": {},
   "outputs": [
    {
     "name": "stdout",
     "output_type": "stream",
     "text": [
      "Plaguemarines win!\n"
     ]
    }
   ],
   "source": [
    "PM_squad = np.asarray([2,2,2,2,2,2,2])\n",
    "ST_squad = np.asarray([1,1,1,1,1,1,1,1,1,1])\n",
    "print(fight(ST_squad, PM_squad)[0])"
   ]
  },
  {
   "cell_type": "markdown",
   "metadata": {},
   "source": [
    "Let's try running this simulation a couple hundred times and see who wins."
   ]
  },
  {
   "cell_type": "code",
   "execution_count": 15,
   "metadata": {},
   "outputs": [
    {
     "name": "stdout",
     "output_type": "stream",
     "text": [
      "Stormtroopers win 0.0% of the time\n",
      "Plaguemarines win 100.0% of the time\n"
     ]
    }
   ],
   "source": [
    "ST_wins = 0\n",
    "PM_wins = 0\n",
    "\n",
    "for i in range(10000):\n",
    "    PM_squad = np.asarray([2,2,2,2,2,2,2])\n",
    "    ST_squad = np.asarray([1,1,1,1,1,1,1,1,1,1])\n",
    "    if fight(ST_squad, PM_squad)[0] == \"Stormtroopers win!\":\n",
    "        ST_wins += 1\n",
    "    else:\n",
    "        PM_wins += 1\n",
    "\n",
    "print(\"Stormtroopers win {}% of the time\".format(ST_wins/(ST_wins+PM_wins)*100))\n",
    "print(\"Plaguemarines win {}% of the time\".format(PM_wins/(ST_wins+PM_wins)*100))"
   ]
  },
  {
   "cell_type": "markdown",
   "metadata": {},
   "source": [
    "Well thats unfortunate, the stormtroopers get rapid fire 1, meaning they get double the shots when they are within half range, so lets see if thats what they need to get the upper hand."
   ]
  },
  {
   "cell_type": "code",
   "execution_count": 16,
   "metadata": {},
   "outputs": [],
   "source": [
    "ST_attacks = 2 # The HS-Lasgun used by the Stormtroopers fires two shots in close range"
   ]
  },
  {
   "cell_type": "code",
   "execution_count": 17,
   "metadata": {},
   "outputs": [
    {
     "name": "stdout",
     "output_type": "stream",
     "text": [
      "Stormtroopers win 0.0% of the time\n",
      "Plaguemarines win 100.0% of the time\n"
     ]
    }
   ],
   "source": [
    "ST_wins = 0\n",
    "PM_wins = 0\n",
    "\n",
    "for i in range(10000):\n",
    "    PM_squad = np.asarray([2,2,2,2,2,2,2])\n",
    "    ST_squad = np.asarray([1,1,1,1,1,1,1,1,1,1])\n",
    "    if fight(ST_squad, PM_squad)[0] == \"Stormtroopers win!\":\n",
    "        ST_wins += 1\n",
    "    else:\n",
    "        PM_wins += 1\n",
    "\n",
    "print(\"Stormtroopers win {}% of the time\".format(ST_wins/(ST_wins+PM_wins)*100))\n",
    "print(\"Plaguemarines win {}% of the time\".format(PM_wins/(ST_wins+PM_wins)*100))"
   ]
  },
  {
   "cell_type": "markdown",
   "metadata": {},
   "source": [
    "Hmm, still not looking good for the stormtroopers, Imperial Guard have access to orders, a unique buff that can be applied to a squad, so let's give them the Take Aim order, which gives them +1 to hit."
   ]
  },
  {
   "cell_type": "code",
   "execution_count": 18,
   "metadata": {},
   "outputs": [],
   "source": [
    "ST_hit = 3 # The Stormtroopers have a ballistic skill of 3+ with the take aim order"
   ]
  },
  {
   "cell_type": "code",
   "execution_count": 19,
   "metadata": {},
   "outputs": [
    {
     "name": "stdout",
     "output_type": "stream",
     "text": [
      "Stormtroopers win 0.0% of the time\n",
      "Plaguemarines win 100.0% of the time\n"
     ]
    }
   ],
   "source": [
    "ST_wins = 0\n",
    "PM_wins = 0\n",
    "\n",
    "for i in range(10000):\n",
    "    PM_squad = np.asarray([2,2,2,2,2,2,2])\n",
    "    ST_squad = np.asarray([1,1,1,1,1,1,1,1,1,1])\n",
    "    results = fight(ST_squad, PM_squad)\n",
    "    if results[0] == \"Stormtroopers win!\":\n",
    "        ST_wins += 1\n",
    "    else:\n",
    "        PM_wins += 1\n",
    "    \n",
    "\n",
    "\n",
    "print(\"Stormtroopers win {}% of the time\".format(ST_wins/(ST_wins+PM_wins)*100))\n",
    "print(\"Plaguemarines win {}% of the time\".format(PM_wins/(ST_wins+PM_wins)*100))"
   ]
  },
  {
   "cell_type": "markdown",
   "metadata": {},
   "source": [
    "There's hope!\n",
    "Let's try increasing the number of attacks they get, and see at what point they start winning."
   ]
  },
  {
   "cell_type": "code",
   "execution_count": 20,
   "metadata": {},
   "outputs": [],
   "source": [
    "ST_winrate = []\n",
    "for i in range(25):\n",
    "    ST_wins = 0\n",
    "    PM_wins = 0\n",
    "    ST_attacks = i+1\n",
    "\n",
    "    for j in range(1000):\n",
    "        PM_squad = np.asarray([2,2,2,2,2,2,2])\n",
    "        ST_squad = np.asarray([1,1,1,1,1,1,1,1,1,1])\n",
    "        results = fight(ST_squad, PM_squad)\n",
    "        if results[0] == \"Stormtroopers win!\":\n",
    "            ST_wins += 1\n",
    "        else:\n",
    "            PM_wins += 1\n",
    "\n",
    "    ST_winrate.append(ST_wins/(ST_wins+PM_wins)*100)"
   ]
  },
  {
   "cell_type": "code",
   "execution_count": 21,
   "metadata": {},
   "outputs": [
    {
     "data": {
      "text/plain": [
       "[<matplotlib.lines.Line2D at 0x7febb12f5050>]"
      ]
     },
     "execution_count": 21,
     "metadata": {},
     "output_type": "execute_result"
    },
    {
     "data": {
      "image/png": "[encoded data removed]",
      "text/plain": [
       "<Figure size 640x480 with 1 Axes>"
      ]
     },
     "metadata": {},
     "output_type": "display_data"
    }
   ],
   "source": [
    "import matplotlib.pyplot as plt\n",
    "plt.plot(ST_winrate)"
   ]
  },
  {
   "cell_type": "markdown",
   "metadata": {},
   "source": [
    "So it look like it takes at least 5 attacks per Stormtrooper before they become reasonably effective, and closer to 10 attacks before its a fair fight. \n"
   ]
  },
  {
   "cell_type": "markdown",
   "metadata": {},
   "source": [
    "So lets give the guardsmen 6 attacks each, just for balance sake."
   ]
  },
  {
   "cell_type": "code",
   "execution_count": 22,
   "metadata": {},
   "outputs": [
    {
     "name": "stdout",
     "output_type": "stream",
     "text": [
      "Stormtroopers win 11.700000000000001% of the time\n",
      "Plaguemarines win 88.3% of the time\n"
     ]
    }
   ],
   "source": [
    "ST_wins = 0\n",
    "PM_wins = 0\n",
    "ST_attacks = 10\n",
    "\n",
    "for j in range(1000):\n",
    "    PM_squad = np.asarray([2,2,2,2,2,2,2])\n",
    "    ST_squad = np.asarray([1,1,1,1,1,1,1,1,1,1])\n",
    "    results = fight(ST_squad, PM_squad)\n",
    "    if results[0] == \"Stormtroopers win!\":\n",
    "        ST_wins += 1\n",
    "    else:\n",
    "        PM_wins += 1\n",
    "\n",
    "print(\"Stormtroopers win {}% of the time\".format(ST_wins/(ST_wins+PM_wins)*100))\n",
    "print(\"Plaguemarines win {}% of the time\".format(PM_wins/(ST_wins+PM_wins)*100))\n"
   ]
  },
  {
   "cell_type": "markdown",
   "metadata": {},
   "source": [
    "Now that we've got things even, Lets try giving the plaguemarines one more damage on their guns, intuitivley that should improve their odds."
   ]
  },
  {
   "cell_type": "code",
   "execution_count": 23,
   "metadata": {},
   "outputs": [
    {
     "name": "stdout",
     "output_type": "stream",
     "text": [
      "Stormtroopers win 11.600000000000001% of the time\n",
      "Plaguemarines win 88.4% of the time\n"
     ]
    }
   ],
   "source": [
    "PM_damage = 2\n",
    "\n",
    "ST_wins = 0\n",
    "PM_wins = 0\n",
    "ST_attacks = 10\n",
    "\n",
    "for j in range(1000):\n",
    "    PM_squad = np.asarray([2,2,2,2,2,2,2])\n",
    "    ST_squad = np.asarray([1,1,1,1,1,1,1,1,1,1])\n",
    "    results = fight(ST_squad, PM_squad)\n",
    "    if results[0] == \"Stormtroopers win!\":\n",
    "        ST_wins += 1\n",
    "    else:\n",
    "        PM_wins += 1\n",
    "\n",
    "print(\"Stormtroopers win {}% of the time\".format(ST_wins/(ST_wins+PM_wins)*100))\n",
    "print(\"Plaguemarines win {}% of the time\".format(PM_wins/(ST_wins+PM_wins)*100))\n"
   ]
  },
  {
   "cell_type": "markdown",
   "metadata": {},
   "source": [
    "Thats the same as before, since the guardsmen only have 1HP the extra damage is wasted. "
   ]
  },
  {
   "cell_type": "markdown",
   "metadata": {},
   "source": [
    "Now that we have 2 damage attacks, there's one more thing I'd like to try. On top of the save we've seen so far, there's also a second type called a \"feel no pain save\", that happens in addition to the regular save for the few units that have access to it. There is one significant difference however, while the standard save can stop incoming attacks, instead the feel-no-pain save stops indivitual wounds. I'm sure this is statistically significant, and it would be fun to see in which situations its better or worse than the conventional save. "
   ]
  },
  {
   "cell_type": "markdown",
   "metadata": {},
   "source": [
    "Let's give the Plaguemarines a 5+ feel-no-pain save."
   ]
  },
  {
   "cell_type": "code",
   "execution_count": 24,
   "metadata": {},
   "outputs": [],
   "source": [
    "def ST_shoot(ST_squad, PM_squad):\n",
    "    # Stormtroopers shoot at Plaguemarines\n",
    "    ST_squad_hits = sum(roll(len(ST_squad)*ST_attacks) >= ST_hit)\n",
    "    ST_squad_wounds = sum(roll(ST_squad_hits) >= ST_wound)\n",
    "    ST_squad_successes = sum(roll(ST_squad_wounds) < PM_save+ST_AP)\n",
    "    for success in range(ST_squad_successes):\n",
    "        for i in range(ST_damage):\n",
    "            # Adding in save that occurs with each wound instead of each attack\n",
    "            if roll(1) < 5:\n",
    "                PM_squad[0] -= 1 * ST_damage\n",
    "        if PM_squad[0] <= 0:\n",
    "            PM_squad = np.delete(PM_squad, 0)\n",
    "            if len(PM_squad) == 0:\n",
    "                break\n",
    "    return ST_squad, PM_squad"
   ]
  },
  {
   "cell_type": "code",
   "execution_count": 25,
   "metadata": {},
   "outputs": [
    {
     "name": "stdout",
     "output_type": "stream",
     "text": [
      "Stormtroopers win 2.6% of the time\n",
      "Plaguemarines win 97.39999999999999% of the time\n"
     ]
    }
   ],
   "source": [
    "PM_damage = 2\n",
    "\n",
    "ST_wins = 0\n",
    "PM_wins = 0\n",
    "ST_attacks = 10\n",
    "\n",
    "for j in range(1000):\n",
    "    PM_squad = np.asarray([2,2,2,2,2,2,2])\n",
    "    ST_squad = np.asarray([1,1,1,1,1,1,1,1,1,1])\n",
    "    results = fight(ST_squad, PM_squad)\n",
    "    if results[0] == \"Stormtroopers win!\":\n",
    "        ST_wins += 1\n",
    "    else:\n",
    "        PM_wins += 1\n",
    "\n",
    "print(\"Stormtroopers win {}% of the time\".format(ST_wins/(ST_wins+PM_wins)*100))\n",
    "print(\"Plaguemarines win {}% of the time\".format(PM_wins/(ST_wins+PM_wins)*100))\n"
   ]
  },
  {
   "cell_type": "markdown",
   "metadata": {},
   "source": [
    "Looks like the save gave a significant advantage to the Plaguemarines, let's try increasing the damage to 2 and see if that changes anything."
   ]
  },
  {
   "cell_type": "code",
   "execution_count": 26,
   "metadata": {},
   "outputs": [],
   "source": [
    "ST_damage = 2"
   ]
  },
  {
   "cell_type": "code",
   "execution_count": 27,
   "metadata": {},
   "outputs": [
    {
     "name": "stdout",
     "output_type": "stream",
     "text": [
      "Stormtroopers win 47.599999999999994% of the time\n",
      "Plaguemarines win 52.400000000000006% of the time\n"
     ]
    }
   ],
   "source": [
    "ST_wins = 0\n",
    "PM_wins = 0\n",
    "ST_attacks = 10\n",
    "\n",
    "for j in range(1000):\n",
    "    PM_squad = np.asarray([2,2,2,2,2,2,2])\n",
    "    ST_squad = np.asarray([1,1,1,1,1,1,1,1,1,1])\n",
    "    results = fight(ST_squad, PM_squad)\n",
    "    if results[0] == \"Stormtroopers win!\":\n",
    "        ST_wins += 1\n",
    "    else:\n",
    "        PM_wins += 1\n",
    "\n",
    "print(\"Stormtroopers win {}% of the time\".format(ST_wins/(ST_wins+PM_wins)*100))\n",
    "print(\"Plaguemarines win {}% of the time\".format(PM_wins/(ST_wins+PM_wins)*100))"
   ]
  },
  {
   "cell_type": "markdown",
   "metadata": {},
   "source": [
    "Woah, all of the sudden the stormtroopers have a huge advantage. Ok, so keeping the attacks at 10, and doubling the damage hugely increased the Stormtroopers chances, what about doing 20 attacks but back at 1 damage?"
   ]
  },
  {
   "cell_type": "code",
   "execution_count": 28,
   "metadata": {},
   "outputs": [
    {
     "name": "stdout",
     "output_type": "stream",
     "text": [
      "Stormtroopers win 28.499999999999996% of the time\n",
      "Plaguemarines win 71.5% of the time\n"
     ]
    }
   ],
   "source": [
    "ST_damage = 1\n",
    "ST_attacks = 20\n",
    "\n",
    "ST_wins = 0\n",
    "PM_wins = 0\n",
    "\n",
    "for j in range(1000):\n",
    "    PM_squad = np.asarray([2,2,2,2,2,2,2])\n",
    "    ST_squad = np.asarray([1,1,1,1,1,1,1,1,1,1])\n",
    "    results = fight(ST_squad, PM_squad)\n",
    "    if results[0] == \"Stormtroopers win!\":\n",
    "        ST_wins += 1\n",
    "    else:\n",
    "        PM_wins += 1\n",
    "\n",
    "print(\"Stormtroopers win {}% of the time\".format(ST_wins/(ST_wins+PM_wins)*100))\n",
    "print(\"Plaguemarines win {}% of the time\".format(PM_wins/(ST_wins+PM_wins)*100))"
   ]
  },
  {
   "cell_type": "markdown",
   "metadata": {},
   "source": [
    "Interesting, you can see the feel-no-pain save is much more effective when the damage is spread out over more attacks, but the conventional save is more effective when the damage is concentrated into fewer attacks."
   ]
  }
 ],
 "metadata": {
  "kernelspec": {
   "display_name": "data",
   "language": "python",
   "name": "python3"
  },
  "language_info": {
   "codemirror_mode": {
    "name": "ipython",
    "version": 3
   },
   "file_extension": ".py",
   "mimetype": "text/x-python",
   "name": "python",
   "nbconvert_exporter": "python",
   "pygments_lexer": "ipython3",
   "version": "3.11.5"
  }
 },
 "nbformat": 4,
 "nbformat_minor": 2
}
